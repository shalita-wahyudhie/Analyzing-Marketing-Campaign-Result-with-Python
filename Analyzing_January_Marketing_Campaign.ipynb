{
  "nbformat": 4,
  "nbformat_minor": 0,
  "metadata": {
    "colab": {
      "provenance": [],
      "authorship_tag": "ABX9TyM+NUE22YoWZesh6OAe0lip"
    },
    "kernelspec": {
      "name": "python3",
      "display_name": "Python 3"
    },
    "language_info": {
      "name": "python"
    }
  },
  "cells": [
    {
      "cell_type": "markdown",
      "source": [
        "## Importing the data"
      ],
      "metadata": {
        "id": "nRCMrt_LSO6Q"
      }
    },
    {
      "cell_type": "code",
      "source": [
        "# Import pandas into the environment\n",
        "import pandas as pd\n",
        "\n",
        "# Upload the data\n",
        "from google.colab import files\n",
        "uploaded = files.upload() "
      ],
      "metadata": {
        "id": "wwtkODTsBTe7",
        "colab": {
          "base_uri": "https://localhost:8080/",
          "height": 73
        },
        "outputId": "9fb6a079-968e-489c-aa3d-f7def109b94b"
      },
      "execution_count": 40,
      "outputs": [
        {
          "output_type": "display_data",
          "data": {
            "text/plain": [
              "<IPython.core.display.HTML object>"
            ],
            "text/html": [
              "\n",
              "     <input type=\"file\" id=\"files-ccdcff74-22e6-4d40-bd07-b9c9c974f394\" name=\"files[]\" multiple disabled\n",
              "        style=\"border:none\" />\n",
              "     <output id=\"result-ccdcff74-22e6-4d40-bd07-b9c9c974f394\">\n",
              "      Upload widget is only available when the cell has been executed in the\n",
              "      current browser session. Please rerun this cell to enable.\n",
              "      </output>\n",
              "      <script>// Copyright 2017 Google LLC\n",
              "//\n",
              "// Licensed under the Apache License, Version 2.0 (the \"License\");\n",
              "// you may not use this file except in compliance with the License.\n",
              "// You may obtain a copy of the License at\n",
              "//\n",
              "//      http://www.apache.org/licenses/LICENSE-2.0\n",
              "//\n",
              "// Unless required by applicable law or agreed to in writing, software\n",
              "// distributed under the License is distributed on an \"AS IS\" BASIS,\n",
              "// WITHOUT WARRANTIES OR CONDITIONS OF ANY KIND, either express or implied.\n",
              "// See the License for the specific language governing permissions and\n",
              "// limitations under the License.\n",
              "\n",
              "/**\n",
              " * @fileoverview Helpers for google.colab Python module.\n",
              " */\n",
              "(function(scope) {\n",
              "function span(text, styleAttributes = {}) {\n",
              "  const element = document.createElement('span');\n",
              "  element.textContent = text;\n",
              "  for (const key of Object.keys(styleAttributes)) {\n",
              "    element.style[key] = styleAttributes[key];\n",
              "  }\n",
              "  return element;\n",
              "}\n",
              "\n",
              "// Max number of bytes which will be uploaded at a time.\n",
              "const MAX_PAYLOAD_SIZE = 100 * 1024;\n",
              "\n",
              "function _uploadFiles(inputId, outputId) {\n",
              "  const steps = uploadFilesStep(inputId, outputId);\n",
              "  const outputElement = document.getElementById(outputId);\n",
              "  // Cache steps on the outputElement to make it available for the next call\n",
              "  // to uploadFilesContinue from Python.\n",
              "  outputElement.steps = steps;\n",
              "\n",
              "  return _uploadFilesContinue(outputId);\n",
              "}\n",
              "\n",
              "// This is roughly an async generator (not supported in the browser yet),\n",
              "// where there are multiple asynchronous steps and the Python side is going\n",
              "// to poll for completion of each step.\n",
              "// This uses a Promise to block the python side on completion of each step,\n",
              "// then passes the result of the previous step as the input to the next step.\n",
              "function _uploadFilesContinue(outputId) {\n",
              "  const outputElement = document.getElementById(outputId);\n",
              "  const steps = outputElement.steps;\n",
              "\n",
              "  const next = steps.next(outputElement.lastPromiseValue);\n",
              "  return Promise.resolve(next.value.promise).then((value) => {\n",
              "    // Cache the last promise value to make it available to the next\n",
              "    // step of the generator.\n",
              "    outputElement.lastPromiseValue = value;\n",
              "    return next.value.response;\n",
              "  });\n",
              "}\n",
              "\n",
              "/**\n",
              " * Generator function which is called between each async step of the upload\n",
              " * process.\n",
              " * @param {string} inputId Element ID of the input file picker element.\n",
              " * @param {string} outputId Element ID of the output display.\n",
              " * @return {!Iterable<!Object>} Iterable of next steps.\n",
              " */\n",
              "function* uploadFilesStep(inputId, outputId) {\n",
              "  const inputElement = document.getElementById(inputId);\n",
              "  inputElement.disabled = false;\n",
              "\n",
              "  const outputElement = document.getElementById(outputId);\n",
              "  outputElement.innerHTML = '';\n",
              "\n",
              "  const pickedPromise = new Promise((resolve) => {\n",
              "    inputElement.addEventListener('change', (e) => {\n",
              "      resolve(e.target.files);\n",
              "    });\n",
              "  });\n",
              "\n",
              "  const cancel = document.createElement('button');\n",
              "  inputElement.parentElement.appendChild(cancel);\n",
              "  cancel.textContent = 'Cancel upload';\n",
              "  const cancelPromise = new Promise((resolve) => {\n",
              "    cancel.onclick = () => {\n",
              "      resolve(null);\n",
              "    };\n",
              "  });\n",
              "\n",
              "  // Wait for the user to pick the files.\n",
              "  const files = yield {\n",
              "    promise: Promise.race([pickedPromise, cancelPromise]),\n",
              "    response: {\n",
              "      action: 'starting',\n",
              "    }\n",
              "  };\n",
              "\n",
              "  cancel.remove();\n",
              "\n",
              "  // Disable the input element since further picks are not allowed.\n",
              "  inputElement.disabled = true;\n",
              "\n",
              "  if (!files) {\n",
              "    return {\n",
              "      response: {\n",
              "        action: 'complete',\n",
              "      }\n",
              "    };\n",
              "  }\n",
              "\n",
              "  for (const file of files) {\n",
              "    const li = document.createElement('li');\n",
              "    li.append(span(file.name, {fontWeight: 'bold'}));\n",
              "    li.append(span(\n",
              "        `(${file.type || 'n/a'}) - ${file.size} bytes, ` +\n",
              "        `last modified: ${\n",
              "            file.lastModifiedDate ? file.lastModifiedDate.toLocaleDateString() :\n",
              "                                    'n/a'} - `));\n",
              "    const percent = span('0% done');\n",
              "    li.appendChild(percent);\n",
              "\n",
              "    outputElement.appendChild(li);\n",
              "\n",
              "    const fileDataPromise = new Promise((resolve) => {\n",
              "      const reader = new FileReader();\n",
              "      reader.onload = (e) => {\n",
              "        resolve(e.target.result);\n",
              "      };\n",
              "      reader.readAsArrayBuffer(file);\n",
              "    });\n",
              "    // Wait for the data to be ready.\n",
              "    let fileData = yield {\n",
              "      promise: fileDataPromise,\n",
              "      response: {\n",
              "        action: 'continue',\n",
              "      }\n",
              "    };\n",
              "\n",
              "    // Use a chunked sending to avoid message size limits. See b/62115660.\n",
              "    let position = 0;\n",
              "    do {\n",
              "      const length = Math.min(fileData.byteLength - position, MAX_PAYLOAD_SIZE);\n",
              "      const chunk = new Uint8Array(fileData, position, length);\n",
              "      position += length;\n",
              "\n",
              "      const base64 = btoa(String.fromCharCode.apply(null, chunk));\n",
              "      yield {\n",
              "        response: {\n",
              "          action: 'append',\n",
              "          file: file.name,\n",
              "          data: base64,\n",
              "        },\n",
              "      };\n",
              "\n",
              "      let percentDone = fileData.byteLength === 0 ?\n",
              "          100 :\n",
              "          Math.round((position / fileData.byteLength) * 100);\n",
              "      percent.textContent = `${percentDone}% done`;\n",
              "\n",
              "    } while (position < fileData.byteLength);\n",
              "  }\n",
              "\n",
              "  // All done.\n",
              "  yield {\n",
              "    response: {\n",
              "      action: 'complete',\n",
              "    }\n",
              "  };\n",
              "}\n",
              "\n",
              "scope.google = scope.google || {};\n",
              "scope.google.colab = scope.google.colab || {};\n",
              "scope.google.colab._files = {\n",
              "  _uploadFiles,\n",
              "  _uploadFilesContinue,\n",
              "};\n",
              "})(self);\n",
              "</script> "
            ]
          },
          "metadata": {}
        },
        {
          "output_type": "stream",
          "name": "stdout",
          "text": [
            "Saving marketing.csv to marketing (1).csv\n"
          ]
        }
      ]
    },
    {
      "cell_type": "code",
      "source": [
        "# Import the data\n",
        "marketing = pd.read_csv('marketing.csv')\n",
        "\n",
        "# Look at the first few rows of the data (best practice after importing data)\n",
        "marketing.head(10)"
      ],
      "metadata": {
        "colab": {
          "base_uri": "https://localhost:8080/",
          "height": 407
        },
        "id": "obqMRKq1CvBp",
        "outputId": "f4bda50c-e852-44ca-cd0e-4856e724fdeb"
      },
      "execution_count": 41,
      "outputs": [
        {
          "output_type": "execute_result",
          "data": {
            "text/plain": [
              "      user_id date_served marketing_channel          variant converted  \\\n",
              "0  a100000029      1/1/18         House Ads  personalization      True   \n",
              "1  a100000030      1/1/18         House Ads  personalization      True   \n",
              "2  a100000031      1/1/18         House Ads  personalization      True   \n",
              "3  a100000032      1/1/18         House Ads  personalization      True   \n",
              "4  a100000033      1/1/18         House Ads  personalization      True   \n",
              "5  a100000034      1/1/18         House Ads  personalization      True   \n",
              "6  a100000035      1/1/18         House Ads  personalization      True   \n",
              "7  a100000036      1/1/18         House Ads  personalization      True   \n",
              "8  a100000037      1/1/18         House Ads  personalization      True   \n",
              "9  a100000038      1/1/18         House Ads  personalization      True   \n",
              "\n",
              "  language_displayed language_preferred    age_group date_subscribed  \\\n",
              "0            English            English   0-18 years          1/1/18   \n",
              "1            English            English  19-24 years          1/1/18   \n",
              "2            English            English  24-30 years          1/1/18   \n",
              "3            English            English  30-36 years          1/1/18   \n",
              "4            English            English  36-45 years          1/1/18   \n",
              "5             German             German  45-55 years          1/1/18   \n",
              "6            English            English    55+ years          1/1/18   \n",
              "7            English            English   0-18 years          1/1/18   \n",
              "8            English            English  19-24 years          1/1/18   \n",
              "9            English            English  24-30 years          1/1/18   \n",
              "\n",
              "  date_canceled subscribing_channel is_retained  \n",
              "0           NaN           House Ads        True  \n",
              "1           NaN           House Ads        True  \n",
              "2           NaN           House Ads        True  \n",
              "3           NaN           House Ads        True  \n",
              "4           NaN           House Ads        True  \n",
              "5           NaN           House Ads        True  \n",
              "6           NaN           House Ads        True  \n",
              "7           NaN           House Ads        True  \n",
              "8           NaN           House Ads        True  \n",
              "9           NaN           House Ads        True  "
            ],
            "text/html": [
              "\n",
              "  <div id=\"df-a0b4f5d2-7ffc-4f9a-a0ad-95a1ccdc5d73\">\n",
              "    <div class=\"colab-df-container\">\n",
              "      <div>\n",
              "<style scoped>\n",
              "    .dataframe tbody tr th:only-of-type {\n",
              "        vertical-align: middle;\n",
              "    }\n",
              "\n",
              "    .dataframe tbody tr th {\n",
              "        vertical-align: top;\n",
              "    }\n",
              "\n",
              "    .dataframe thead th {\n",
              "        text-align: right;\n",
              "    }\n",
              "</style>\n",
              "<table border=\"1\" class=\"dataframe\">\n",
              "  <thead>\n",
              "    <tr style=\"text-align: right;\">\n",
              "      <th></th>\n",
              "      <th>user_id</th>\n",
              "      <th>date_served</th>\n",
              "      <th>marketing_channel</th>\n",
              "      <th>variant</th>\n",
              "      <th>converted</th>\n",
              "      <th>language_displayed</th>\n",
              "      <th>language_preferred</th>\n",
              "      <th>age_group</th>\n",
              "      <th>date_subscribed</th>\n",
              "      <th>date_canceled</th>\n",
              "      <th>subscribing_channel</th>\n",
              "      <th>is_retained</th>\n",
              "    </tr>\n",
              "  </thead>\n",
              "  <tbody>\n",
              "    <tr>\n",
              "      <th>0</th>\n",
              "      <td>a100000029</td>\n",
              "      <td>1/1/18</td>\n",
              "      <td>House Ads</td>\n",
              "      <td>personalization</td>\n",
              "      <td>True</td>\n",
              "      <td>English</td>\n",
              "      <td>English</td>\n",
              "      <td>0-18 years</td>\n",
              "      <td>1/1/18</td>\n",
              "      <td>NaN</td>\n",
              "      <td>House Ads</td>\n",
              "      <td>True</td>\n",
              "    </tr>\n",
              "    <tr>\n",
              "      <th>1</th>\n",
              "      <td>a100000030</td>\n",
              "      <td>1/1/18</td>\n",
              "      <td>House Ads</td>\n",
              "      <td>personalization</td>\n",
              "      <td>True</td>\n",
              "      <td>English</td>\n",
              "      <td>English</td>\n",
              "      <td>19-24 years</td>\n",
              "      <td>1/1/18</td>\n",
              "      <td>NaN</td>\n",
              "      <td>House Ads</td>\n",
              "      <td>True</td>\n",
              "    </tr>\n",
              "    <tr>\n",
              "      <th>2</th>\n",
              "      <td>a100000031</td>\n",
              "      <td>1/1/18</td>\n",
              "      <td>House Ads</td>\n",
              "      <td>personalization</td>\n",
              "      <td>True</td>\n",
              "      <td>English</td>\n",
              "      <td>English</td>\n",
              "      <td>24-30 years</td>\n",
              "      <td>1/1/18</td>\n",
              "      <td>NaN</td>\n",
              "      <td>House Ads</td>\n",
              "      <td>True</td>\n",
              "    </tr>\n",
              "    <tr>\n",
              "      <th>3</th>\n",
              "      <td>a100000032</td>\n",
              "      <td>1/1/18</td>\n",
              "      <td>House Ads</td>\n",
              "      <td>personalization</td>\n",
              "      <td>True</td>\n",
              "      <td>English</td>\n",
              "      <td>English</td>\n",
              "      <td>30-36 years</td>\n",
              "      <td>1/1/18</td>\n",
              "      <td>NaN</td>\n",
              "      <td>House Ads</td>\n",
              "      <td>True</td>\n",
              "    </tr>\n",
              "    <tr>\n",
              "      <th>4</th>\n",
              "      <td>a100000033</td>\n",
              "      <td>1/1/18</td>\n",
              "      <td>House Ads</td>\n",
              "      <td>personalization</td>\n",
              "      <td>True</td>\n",
              "      <td>English</td>\n",
              "      <td>English</td>\n",
              "      <td>36-45 years</td>\n",
              "      <td>1/1/18</td>\n",
              "      <td>NaN</td>\n",
              "      <td>House Ads</td>\n",
              "      <td>True</td>\n",
              "    </tr>\n",
              "    <tr>\n",
              "      <th>5</th>\n",
              "      <td>a100000034</td>\n",
              "      <td>1/1/18</td>\n",
              "      <td>House Ads</td>\n",
              "      <td>personalization</td>\n",
              "      <td>True</td>\n",
              "      <td>German</td>\n",
              "      <td>German</td>\n",
              "      <td>45-55 years</td>\n",
              "      <td>1/1/18</td>\n",
              "      <td>NaN</td>\n",
              "      <td>House Ads</td>\n",
              "      <td>True</td>\n",
              "    </tr>\n",
              "    <tr>\n",
              "      <th>6</th>\n",
              "      <td>a100000035</td>\n",
              "      <td>1/1/18</td>\n",
              "      <td>House Ads</td>\n",
              "      <td>personalization</td>\n",
              "      <td>True</td>\n",
              "      <td>English</td>\n",
              "      <td>English</td>\n",
              "      <td>55+ years</td>\n",
              "      <td>1/1/18</td>\n",
              "      <td>NaN</td>\n",
              "      <td>House Ads</td>\n",
              "      <td>True</td>\n",
              "    </tr>\n",
              "    <tr>\n",
              "      <th>7</th>\n",
              "      <td>a100000036</td>\n",
              "      <td>1/1/18</td>\n",
              "      <td>House Ads</td>\n",
              "      <td>personalization</td>\n",
              "      <td>True</td>\n",
              "      <td>English</td>\n",
              "      <td>English</td>\n",
              "      <td>0-18 years</td>\n",
              "      <td>1/1/18</td>\n",
              "      <td>NaN</td>\n",
              "      <td>House Ads</td>\n",
              "      <td>True</td>\n",
              "    </tr>\n",
              "    <tr>\n",
              "      <th>8</th>\n",
              "      <td>a100000037</td>\n",
              "      <td>1/1/18</td>\n",
              "      <td>House Ads</td>\n",
              "      <td>personalization</td>\n",
              "      <td>True</td>\n",
              "      <td>English</td>\n",
              "      <td>English</td>\n",
              "      <td>19-24 years</td>\n",
              "      <td>1/1/18</td>\n",
              "      <td>NaN</td>\n",
              "      <td>House Ads</td>\n",
              "      <td>True</td>\n",
              "    </tr>\n",
              "    <tr>\n",
              "      <th>9</th>\n",
              "      <td>a100000038</td>\n",
              "      <td>1/1/18</td>\n",
              "      <td>House Ads</td>\n",
              "      <td>personalization</td>\n",
              "      <td>True</td>\n",
              "      <td>English</td>\n",
              "      <td>English</td>\n",
              "      <td>24-30 years</td>\n",
              "      <td>1/1/18</td>\n",
              "      <td>NaN</td>\n",
              "      <td>House Ads</td>\n",
              "      <td>True</td>\n",
              "    </tr>\n",
              "  </tbody>\n",
              "</table>\n",
              "</div>\n",
              "      <button class=\"colab-df-convert\" onclick=\"convertToInteractive('df-a0b4f5d2-7ffc-4f9a-a0ad-95a1ccdc5d73')\"\n",
              "              title=\"Convert this dataframe to an interactive table.\"\n",
              "              style=\"display:none;\">\n",
              "        \n",
              "  <svg xmlns=\"http://www.w3.org/2000/svg\" height=\"24px\"viewBox=\"0 0 24 24\"\n",
              "       width=\"24px\">\n",
              "    <path d=\"M0 0h24v24H0V0z\" fill=\"none\"/>\n",
              "    <path d=\"M18.56 5.44l.94 2.06.94-2.06 2.06-.94-2.06-.94-.94-2.06-.94 2.06-2.06.94zm-11 1L8.5 8.5l.94-2.06 2.06-.94-2.06-.94L8.5 2.5l-.94 2.06-2.06.94zm10 10l.94 2.06.94-2.06 2.06-.94-2.06-.94-.94-2.06-.94 2.06-2.06.94z\"/><path d=\"M17.41 7.96l-1.37-1.37c-.4-.4-.92-.59-1.43-.59-.52 0-1.04.2-1.43.59L10.3 9.45l-7.72 7.72c-.78.78-.78 2.05 0 2.83L4 21.41c.39.39.9.59 1.41.59.51 0 1.02-.2 1.41-.59l7.78-7.78 2.81-2.81c.8-.78.8-2.07 0-2.86zM5.41 20L4 18.59l7.72-7.72 1.47 1.35L5.41 20z\"/>\n",
              "  </svg>\n",
              "      </button>\n",
              "      \n",
              "  <style>\n",
              "    .colab-df-container {\n",
              "      display:flex;\n",
              "      flex-wrap:wrap;\n",
              "      gap: 12px;\n",
              "    }\n",
              "\n",
              "    .colab-df-convert {\n",
              "      background-color: #E8F0FE;\n",
              "      border: none;\n",
              "      border-radius: 50%;\n",
              "      cursor: pointer;\n",
              "      display: none;\n",
              "      fill: #1967D2;\n",
              "      height: 32px;\n",
              "      padding: 0 0 0 0;\n",
              "      width: 32px;\n",
              "    }\n",
              "\n",
              "    .colab-df-convert:hover {\n",
              "      background-color: #E2EBFA;\n",
              "      box-shadow: 0px 1px 2px rgba(60, 64, 67, 0.3), 0px 1px 3px 1px rgba(60, 64, 67, 0.15);\n",
              "      fill: #174EA6;\n",
              "    }\n",
              "\n",
              "    [theme=dark] .colab-df-convert {\n",
              "      background-color: #3B4455;\n",
              "      fill: #D2E3FC;\n",
              "    }\n",
              "\n",
              "    [theme=dark] .colab-df-convert:hover {\n",
              "      background-color: #434B5C;\n",
              "      box-shadow: 0px 1px 3px 1px rgba(0, 0, 0, 0.15);\n",
              "      filter: drop-shadow(0px 1px 2px rgba(0, 0, 0, 0.3));\n",
              "      fill: #FFFFFF;\n",
              "    }\n",
              "  </style>\n",
              "\n",
              "      <script>\n",
              "        const buttonEl =\n",
              "          document.querySelector('#df-a0b4f5d2-7ffc-4f9a-a0ad-95a1ccdc5d73 button.colab-df-convert');\n",
              "        buttonEl.style.display =\n",
              "          google.colab.kernel.accessAllowed ? 'block' : 'none';\n",
              "\n",
              "        async function convertToInteractive(key) {\n",
              "          const element = document.querySelector('#df-a0b4f5d2-7ffc-4f9a-a0ad-95a1ccdc5d73');\n",
              "          const dataTable =\n",
              "            await google.colab.kernel.invokeFunction('convertToInteractive',\n",
              "                                                     [key], {});\n",
              "          if (!dataTable) return;\n",
              "\n",
              "          const docLinkHtml = 'Like what you see? Visit the ' +\n",
              "            '<a target=\"_blank\" href=https://colab.research.google.com/notebooks/data_table.ipynb>data table notebook</a>'\n",
              "            + ' to learn more about interactive tables.';\n",
              "          element.innerHTML = '';\n",
              "          dataTable['output_type'] = 'display_data';\n",
              "          await google.colab.output.renderOutput(dataTable, element);\n",
              "          const docLink = document.createElement('div');\n",
              "          docLink.innerHTML = docLinkHtml;\n",
              "          element.appendChild(docLink);\n",
              "        }\n",
              "      </script>\n",
              "    </div>\n",
              "  </div>\n",
              "  "
            ]
          },
          "metadata": {},
          "execution_count": 41
        }
      ]
    },
    {
      "cell_type": "markdown",
      "source": [
        "## Getting to know the data"
      ],
      "metadata": {
        "id": "RXzEWlctSSMV"
      }
    },
    {
      "cell_type": "code",
      "source": [
        "# Look at data types and summary statistics\n",
        "marketing.info()\n",
        "marketing.describe()"
      ],
      "metadata": {
        "colab": {
          "base_uri": "https://localhost:8080/",
          "height": 548
        },
        "id": "SSJAx0HrDhA0",
        "outputId": "ab2e5733-4616-4f13-c5c3-6300406363fb"
      },
      "execution_count": 42,
      "outputs": [
        {
          "output_type": "stream",
          "name": "stdout",
          "text": [
            "<class 'pandas.core.frame.DataFrame'>\n",
            "RangeIndex: 10037 entries, 0 to 10036\n",
            "Data columns (total 12 columns):\n",
            " #   Column               Non-Null Count  Dtype \n",
            "---  ------               --------------  ----- \n",
            " 0   user_id              10037 non-null  object\n",
            " 1   date_served          10021 non-null  object\n",
            " 2   marketing_channel    10022 non-null  object\n",
            " 3   variant              10037 non-null  object\n",
            " 4   converted            10022 non-null  object\n",
            " 5   language_displayed   10037 non-null  object\n",
            " 6   language_preferred   10037 non-null  object\n",
            " 7   age_group            10037 non-null  object\n",
            " 8   date_subscribed      1856 non-null   object\n",
            " 9   date_canceled        577 non-null    object\n",
            " 10  subscribing_channel  1856 non-null   object\n",
            " 11  is_retained          1856 non-null   object\n",
            "dtypes: object(12)\n",
            "memory usage: 941.1+ KB\n"
          ]
        },
        {
          "output_type": "execute_result",
          "data": {
            "text/plain": [
              "           user_id date_served marketing_channel  variant converted  \\\n",
              "count        10037       10021             10022    10037     10022   \n",
              "unique        7309          31                 5        2         2   \n",
              "top     a100000882     1/15/18         House Ads  control     False   \n",
              "freq            12         789              4733     5091      8946   \n",
              "\n",
              "       language_displayed language_preferred    age_group date_subscribed  \\\n",
              "count               10037              10037        10037            1856   \n",
              "unique                  4                  4            7              31   \n",
              "top               English            English  19-24 years         1/16/18   \n",
              "freq                 9793               9275         1682             163   \n",
              "\n",
              "       date_canceled subscribing_channel is_retained  \n",
              "count            577                1856        1856  \n",
              "unique           115                   5           2  \n",
              "top           4/2/18           Instagram        True  \n",
              "freq              15                 600        1279  "
            ],
            "text/html": [
              "\n",
              "  <div id=\"df-ce96cad9-c73e-43a4-baf3-28aa584da677\">\n",
              "    <div class=\"colab-df-container\">\n",
              "      <div>\n",
              "<style scoped>\n",
              "    .dataframe tbody tr th:only-of-type {\n",
              "        vertical-align: middle;\n",
              "    }\n",
              "\n",
              "    .dataframe tbody tr th {\n",
              "        vertical-align: top;\n",
              "    }\n",
              "\n",
              "    .dataframe thead th {\n",
              "        text-align: right;\n",
              "    }\n",
              "</style>\n",
              "<table border=\"1\" class=\"dataframe\">\n",
              "  <thead>\n",
              "    <tr style=\"text-align: right;\">\n",
              "      <th></th>\n",
              "      <th>user_id</th>\n",
              "      <th>date_served</th>\n",
              "      <th>marketing_channel</th>\n",
              "      <th>variant</th>\n",
              "      <th>converted</th>\n",
              "      <th>language_displayed</th>\n",
              "      <th>language_preferred</th>\n",
              "      <th>age_group</th>\n",
              "      <th>date_subscribed</th>\n",
              "      <th>date_canceled</th>\n",
              "      <th>subscribing_channel</th>\n",
              "      <th>is_retained</th>\n",
              "    </tr>\n",
              "  </thead>\n",
              "  <tbody>\n",
              "    <tr>\n",
              "      <th>count</th>\n",
              "      <td>10037</td>\n",
              "      <td>10021</td>\n",
              "      <td>10022</td>\n",
              "      <td>10037</td>\n",
              "      <td>10022</td>\n",
              "      <td>10037</td>\n",
              "      <td>10037</td>\n",
              "      <td>10037</td>\n",
              "      <td>1856</td>\n",
              "      <td>577</td>\n",
              "      <td>1856</td>\n",
              "      <td>1856</td>\n",
              "    </tr>\n",
              "    <tr>\n",
              "      <th>unique</th>\n",
              "      <td>7309</td>\n",
              "      <td>31</td>\n",
              "      <td>5</td>\n",
              "      <td>2</td>\n",
              "      <td>2</td>\n",
              "      <td>4</td>\n",
              "      <td>4</td>\n",
              "      <td>7</td>\n",
              "      <td>31</td>\n",
              "      <td>115</td>\n",
              "      <td>5</td>\n",
              "      <td>2</td>\n",
              "    </tr>\n",
              "    <tr>\n",
              "      <th>top</th>\n",
              "      <td>a100000882</td>\n",
              "      <td>1/15/18</td>\n",
              "      <td>House Ads</td>\n",
              "      <td>control</td>\n",
              "      <td>False</td>\n",
              "      <td>English</td>\n",
              "      <td>English</td>\n",
              "      <td>19-24 years</td>\n",
              "      <td>1/16/18</td>\n",
              "      <td>4/2/18</td>\n",
              "      <td>Instagram</td>\n",
              "      <td>True</td>\n",
              "    </tr>\n",
              "    <tr>\n",
              "      <th>freq</th>\n",
              "      <td>12</td>\n",
              "      <td>789</td>\n",
              "      <td>4733</td>\n",
              "      <td>5091</td>\n",
              "      <td>8946</td>\n",
              "      <td>9793</td>\n",
              "      <td>9275</td>\n",
              "      <td>1682</td>\n",
              "      <td>163</td>\n",
              "      <td>15</td>\n",
              "      <td>600</td>\n",
              "      <td>1279</td>\n",
              "    </tr>\n",
              "  </tbody>\n",
              "</table>\n",
              "</div>\n",
              "      <button class=\"colab-df-convert\" onclick=\"convertToInteractive('df-ce96cad9-c73e-43a4-baf3-28aa584da677')\"\n",
              "              title=\"Convert this dataframe to an interactive table.\"\n",
              "              style=\"display:none;\">\n",
              "        \n",
              "  <svg xmlns=\"http://www.w3.org/2000/svg\" height=\"24px\"viewBox=\"0 0 24 24\"\n",
              "       width=\"24px\">\n",
              "    <path d=\"M0 0h24v24H0V0z\" fill=\"none\"/>\n",
              "    <path d=\"M18.56 5.44l.94 2.06.94-2.06 2.06-.94-2.06-.94-.94-2.06-.94 2.06-2.06.94zm-11 1L8.5 8.5l.94-2.06 2.06-.94-2.06-.94L8.5 2.5l-.94 2.06-2.06.94zm10 10l.94 2.06.94-2.06 2.06-.94-2.06-.94-.94-2.06-.94 2.06-2.06.94z\"/><path d=\"M17.41 7.96l-1.37-1.37c-.4-.4-.92-.59-1.43-.59-.52 0-1.04.2-1.43.59L10.3 9.45l-7.72 7.72c-.78.78-.78 2.05 0 2.83L4 21.41c.39.39.9.59 1.41.59.51 0 1.02-.2 1.41-.59l7.78-7.78 2.81-2.81c.8-.78.8-2.07 0-2.86zM5.41 20L4 18.59l7.72-7.72 1.47 1.35L5.41 20z\"/>\n",
              "  </svg>\n",
              "      </button>\n",
              "      \n",
              "  <style>\n",
              "    .colab-df-container {\n",
              "      display:flex;\n",
              "      flex-wrap:wrap;\n",
              "      gap: 12px;\n",
              "    }\n",
              "\n",
              "    .colab-df-convert {\n",
              "      background-color: #E8F0FE;\n",
              "      border: none;\n",
              "      border-radius: 50%;\n",
              "      cursor: pointer;\n",
              "      display: none;\n",
              "      fill: #1967D2;\n",
              "      height: 32px;\n",
              "      padding: 0 0 0 0;\n",
              "      width: 32px;\n",
              "    }\n",
              "\n",
              "    .colab-df-convert:hover {\n",
              "      background-color: #E2EBFA;\n",
              "      box-shadow: 0px 1px 2px rgba(60, 64, 67, 0.3), 0px 1px 3px 1px rgba(60, 64, 67, 0.15);\n",
              "      fill: #174EA6;\n",
              "    }\n",
              "\n",
              "    [theme=dark] .colab-df-convert {\n",
              "      background-color: #3B4455;\n",
              "      fill: #D2E3FC;\n",
              "    }\n",
              "\n",
              "    [theme=dark] .colab-df-convert:hover {\n",
              "      background-color: #434B5C;\n",
              "      box-shadow: 0px 1px 3px 1px rgba(0, 0, 0, 0.15);\n",
              "      filter: drop-shadow(0px 1px 2px rgba(0, 0, 0, 0.3));\n",
              "      fill: #FFFFFF;\n",
              "    }\n",
              "  </style>\n",
              "\n",
              "      <script>\n",
              "        const buttonEl =\n",
              "          document.querySelector('#df-ce96cad9-c73e-43a4-baf3-28aa584da677 button.colab-df-convert');\n",
              "        buttonEl.style.display =\n",
              "          google.colab.kernel.accessAllowed ? 'block' : 'none';\n",
              "\n",
              "        async function convertToInteractive(key) {\n",
              "          const element = document.querySelector('#df-ce96cad9-c73e-43a4-baf3-28aa584da677');\n",
              "          const dataTable =\n",
              "            await google.colab.kernel.invokeFunction('convertToInteractive',\n",
              "                                                     [key], {});\n",
              "          if (!dataTable) return;\n",
              "\n",
              "          const docLinkHtml = 'Like what you see? Visit the ' +\n",
              "            '<a target=\"_blank\" href=https://colab.research.google.com/notebooks/data_table.ipynb>data table notebook</a>'\n",
              "            + ' to learn more about interactive tables.';\n",
              "          element.innerHTML = '';\n",
              "          dataTable['output_type'] = 'display_data';\n",
              "          await google.colab.output.renderOutput(dataTable, element);\n",
              "          const docLink = document.createElement('div');\n",
              "          docLink.innerHTML = docLinkHtml;\n",
              "          element.appendChild(docLink);\n",
              "        }\n",
              "      </script>\n",
              "    </div>\n",
              "  </div>\n",
              "  "
            ]
          },
          "metadata": {},
          "execution_count": 42
        }
      ]
    },
    {
      "cell_type": "markdown",
      "source": [
        "Findings: \n",
        "1. <code>'date_served'</code>, <code>'date_subscribed'</code>, <code>'date_canceled'</code> is stored as object instead of datetime\n",
        "2. <code>'converted'</code> and <code>is_retained'</code> is stored as object instead of bool\n",
        "3. contains null = <code>date_served</code>, <code>marketing_channel</code>, <code>converted</code>, other than that the null makes sense\n",
        "\n",
        "Ways to correct:\n",
        "1. convert with <code>pd.to_datetime()</code>\n",
        "2. convert with <code>.astype('bool')</code>, but then <code>nan</code> will be converted to <code>True</code> since boolean doesn't have <code>nan</code>, it's either <code>True</code> or <code>False</code>.\n",
        "3. <code>.dropna()</code> while analyzing"
      ],
      "metadata": {
        "id": "-G2IME0XLkDB"
      }
    },
    {
      "cell_type": "code",
      "source": [
        "# Looking at the unique values and its count\n",
        "list = ['marketing_channel','variant','converted','language_displayed',\n",
        "        'language_preferred','age_group','subscribing_channel','is_retained']\n",
        "\n",
        "for column in list:\n",
        "  if marketing[column].dtype == object:\n",
        "    print(str(column) + ':' + str(marketing[column].unique()))\n",
        "    print(marketing[column].value_counts())\n",
        "    print('________________________________________________')"
      ],
      "metadata": {
        "colab": {
          "base_uri": "https://localhost:8080/"
        },
        "id": "DeqfkPajEgjE",
        "outputId": "ab2f435e-9e2b-4229-aaca-c6bb8dfea755"
      },
      "execution_count": 43,
      "outputs": [
        {
          "output_type": "stream",
          "name": "stdout",
          "text": [
            "marketing_channel:['House Ads' 'Push' 'Facebook' 'Instagram' 'Email' nan]\n",
            "House Ads    4733\n",
            "Instagram    1871\n",
            "Facebook     1860\n",
            "Push          993\n",
            "Email         565\n",
            "Name: marketing_channel, dtype: int64\n",
            "________________________________________________\n",
            "variant:['personalization' 'control']\n",
            "control            5091\n",
            "personalization    4946\n",
            "Name: variant, dtype: int64\n",
            "________________________________________________\n",
            "converted:[True False nan]\n",
            "False    8946\n",
            "True     1076\n",
            "Name: converted, dtype: int64\n",
            "________________________________________________\n",
            "language_displayed:['English' 'German' 'Arabic' 'Spanish']\n",
            "English    9793\n",
            "Spanish     136\n",
            "German       81\n",
            "Arabic       27\n",
            "Name: language_displayed, dtype: int64\n",
            "________________________________________________\n",
            "language_preferred:['English' 'German' 'Arabic' 'Spanish']\n",
            "English    9275\n",
            "Spanish     450\n",
            "German      167\n",
            "Arabic      145\n",
            "Name: language_preferred, dtype: int64\n",
            "________________________________________________\n",
            "age_group:['0-18 years' '19-24 years' '24-30 years' '30-36 years' '36-45 years'\n",
            " '45-55 years' '55+ years']\n",
            "19-24 years    1682\n",
            "24-30 years    1568\n",
            "0-18 years     1539\n",
            "30-36 years    1355\n",
            "36-45 years    1353\n",
            "45-55 years    1353\n",
            "55+ years      1187\n",
            "Name: age_group, dtype: int64\n",
            "________________________________________________\n",
            "subscribing_channel:['House Ads' 'Email' 'Push' 'Facebook' 'Instagram' nan]\n",
            "Instagram    600\n",
            "Facebook     445\n",
            "House Ads    354\n",
            "Email        290\n",
            "Push         167\n",
            "Name: subscribing_channel, dtype: int64\n",
            "________________________________________________\n",
            "is_retained:[True False nan]\n",
            "True     1279\n",
            "False     577\n",
            "Name: is_retained, dtype: int64\n",
            "________________________________________________\n"
          ]
        }
      ]
    },
    {
      "cell_type": "markdown",
      "source": [
        "\n",
        "Where possibly to find insights:\n",
        "\n",
        "*   language factor where language displayed = language preferred -> result based on language\n",
        "*   result by channel\n",
        "* outcome by age group and channel\n",
        "*  A/B testing result by channel and or age group\n",
        "\n",
        "\n",
        "\n"
      ],
      "metadata": {
        "id": "8XYI1DudIX0k"
      }
    },
    {
      "cell_type": "markdown",
      "source": [
        "## Updating Data"
      ],
      "metadata": {
        "id": "qYYBQQbiPopR"
      }
    },
    {
      "cell_type": "code",
      "source": [
        "# Changing dates column to its correct type\n",
        "dates = ['date_served','date_subscribed','date_canceled']\n",
        "\n",
        "for date in dates:\n",
        "  if marketing[date].dtype == object:\n",
        "    marketing[date] = pd.to_datetime(marketing[date])\n",
        "\n",
        "# Add new column to see if the display matches preferred language\n",
        "# Yes if match, No if not\n",
        "\n",
        "# Import numpy\n",
        "import numpy as np\n",
        "\n",
        "# Add new column\n",
        "marketing['is_correct_lang']=np.where(marketing['language_displayed']==\n",
        "                                      marketing['language_preferred'], 'Yes', 'No')\n",
        "\n",
        "# Add new column for the day of the week (DOW) of the date_served\n",
        "marketing['DoW_served'] = marketing['date_served'].dt.dayofweek"
      ],
      "metadata": {
        "id": "jv7Vbjg4RHFC"
      },
      "execution_count": 44,
      "outputs": []
    },
    {
      "cell_type": "markdown",
      "source": [
        "## Initial Exploratory Analysis"
      ],
      "metadata": {
        "id": "q5z4iZZZS8OV"
      }
    },
    {
      "cell_type": "code",
      "source": [
        "# Looking at daily marketing reaches\n",
        "daily_users = marketing.groupby('date_served')['user_id'].nunique()\n",
        "\n",
        "# Plot the users reached daily \n",
        "import matplotlib.pyplot as plt\n",
        "\n",
        "daily_users.plot()\n",
        "plt.title('Users Reached Daily')\n",
        "plt.ylabel('Number of Users')\n",
        "plt.xticks(rotation=45)\n",
        "plt.show()"
      ],
      "metadata": {
        "colab": {
          "base_uri": "https://localhost:8080/",
          "height": 336
        },
        "id": "Ad0xKWNuVgXE",
        "outputId": "6225d529-74d5-4f94-a7d5-efe6098b9b35"
      },
      "execution_count": 45,
      "outputs": [
        {
          "output_type": "display_data",
          "data": {
            "text/plain": [
              "<Figure size 432x288 with 1 Axes>"
            ],
            "image/png": "[encoded data removed]"
          },
          "metadata": {
            "needs_background": "light"
          }
        }
      ]
    },
    {
      "cell_type": "markdown",
      "source": [
        "There was peak in around Jan 15th and drop in the daily users reached around January 20th-28th:"
      ],
      "metadata": {
        "id": "YJuWXuara0EZ"
      }
    },
    {
      "cell_type": "code",
      "source": [
        "# Check\n",
        "daily_users.loc['2018-01-14':'2018-01-17']"
      ],
      "metadata": {
        "colab": {
          "base_uri": "https://localhost:8080/"
        },
        "id": "0Lvko6XvnmDd",
        "outputId": "aa63a40b-19da-495c-ded8-e869a1a1e0be"
      },
      "execution_count": 46,
      "outputs": [
        {
          "output_type": "execute_result",
          "data": {
            "text/plain": [
              "date_served\n",
              "2018-01-14    305\n",
              "2018-01-15    767\n",
              "2018-01-16    388\n",
              "2018-01-17    369\n",
              "Name: user_id, dtype: int64"
            ]
          },
          "metadata": {},
          "execution_count": 46
        }
      ]
    },
    {
      "cell_type": "code",
      "source": [
        "# Check\n",
        "daily_users.loc['2018-01-20':'2018-01-28']"
      ],
      "metadata": {
        "colab": {
          "base_uri": "https://localhost:8080/"
        },
        "id": "_SU8DGsLyjTc",
        "outputId": "98a99a3d-ddae-4ce2-d11d-97b0581a74a9"
      },
      "execution_count": 47,
      "outputs": [
        {
          "output_type": "execute_result",
          "data": {
            "text/plain": [
              "date_served\n",
              "2018-01-20    311\n",
              "2018-01-21    229\n",
              "2018-01-22    178\n",
              "2018-01-23    172\n",
              "2018-01-24    190\n",
              "2018-01-25    184\n",
              "2018-01-26    222\n",
              "2018-01-27    320\n",
              "2018-01-28    320\n",
              "Name: user_id, dtype: int64"
            ]
          },
          "metadata": {},
          "execution_count": 47
        }
      ]
    },
    {
      "cell_type": "code",
      "source": [
        "# Plotting users reached by day of th week\n",
        "dow_users = marketing.groupby('DoW_served')['user_id'].nunique()\n",
        "dow_users.plot(kind='bar')\n",
        "plt.title('Reaches by day of the week \\n')"
      ],
      "metadata": {
        "colab": {
          "base_uri": "https://localhost:8080/",
          "height": 334
        },
        "id": "F_vny-UTFBpy",
        "outputId": "f1766af4-b9a1-4185-a088-c1ce7f1aead7"
      },
      "execution_count": 48,
      "outputs": [
        {
          "output_type": "execute_result",
          "data": {
            "text/plain": [
              "Text(0.5, 1.0, 'Reaches by day of the week \\n')"
            ]
          },
          "metadata": {},
          "execution_count": 48
        },
        {
          "output_type": "display_data",
          "data": {
            "text/plain": [
              "<Figure size 432x288 with 1 Axes>"
            ],
            "image/png": "[encoded data removed]"
          },
          "metadata": {
            "needs_background": "light"
          }
        }
      ]
    },
    {
      "cell_type": "markdown",
      "source": [
        "Findings :\n",
        "* spike at 15 Januari 2018\n",
        "* reaches drop at Jan 21-26th \n",
        "* seasonality based on the day of the week make sense"
      ],
      "metadata": {
        "id": "lDcYTydGnZ4T"
      }
    },
    {
      "cell_type": "code",
      "source": [
        "# Calculating overall conversion rate\n",
        "\n",
        "# Calculate the number of people company marketed to\n",
        "total = marketing['user_id'].nunique()\n",
        "\n",
        "# Calculate the number of people who subscribed\n",
        "subscribers = marketing[marketing['converted'] == True]['user_id'].nunique()\n",
        "\n",
        "# Calculate the conversion rate\n",
        "conv_rate = subscribers/total\n",
        "print('Overall conversion rate is', round(conv_rate*100, 2), \"%\")"
      ],
      "metadata": {
        "id": "9rJtfL-8ZBIp",
        "colab": {
          "base_uri": "https://localhost:8080/"
        },
        "outputId": "bce5e458-d26a-4eb1-aca4-dd8ea677dfcf"
      },
      "execution_count": 49,
      "outputs": [
        {
          "output_type": "stream",
          "name": "stdout",
          "text": [
            "Overall conversion rate is 13.89 %\n"
          ]
        }
      ]
    },
    {
      "cell_type": "code",
      "source": [
        "# Calculating overall retention rate\n",
        "\n",
        "# Calculate the number of people who remained subscribed\n",
        "retained = marketing[marketing['is_retained']== True]['user_id'].nunique()\n",
        "\n",
        "# Calculate the retention rate\n",
        "retention_rate = retained/subscribers\n",
        "print('Overall retention rate is', round(retention_rate*100, 2), \"%\")"
      ],
      "metadata": {
        "id": "Qvw32IsbZBG5",
        "colab": {
          "base_uri": "https://localhost:8080/"
        },
        "outputId": "1c4807e3-60b2-4ae6-d687-f6f7397ddf61"
      },
      "execution_count": 50,
      "outputs": [
        {
          "output_type": "stream",
          "name": "stdout",
          "text": [
            "Overall retention rate is 66.8 %\n"
          ]
        }
      ]
    },
    {
      "cell_type": "markdown",
      "source": [
        "### Automating function for analysis\n",
        "\n"
      ],
      "metadata": {
        "id": "Eu9nS9JitXFY"
      }
    },
    {
      "cell_type": "code",
      "source": [
        "# Automating conversion rate\n",
        "\n",
        "def conversion_rate(dataframe, column_names):\n",
        "    # Total number of converted users\n",
        "    column_conv = dataframe[dataframe['converted']==True].groupby(column_names)['user_id'].nunique()\n",
        "\n",
        "    # Total number users\n",
        "    column_total = dataframe.groupby(column_names)['user_id'].nunique()  \n",
        "    \n",
        "    # Conversion rate \n",
        "    conversion_rate = column_conv/column_total\n",
        "    \n",
        "    # Fill missing values with 0\n",
        "    conversion_rate = conversion_rate.fillna(0)\n",
        "    return conversion_rate"
      ],
      "metadata": {
        "id": "lPznE3WiopY9"
      },
      "execution_count": 51,
      "outputs": []
    },
    {
      "cell_type": "code",
      "source": [
        "# Automating conversion rate plotting for each column\n",
        "def plotting(df):\n",
        "  for column in df:\n",
        "      plt.plot(df.index,df[column]) \n",
        "      plt.title('Daily ' + str(column) + ' Conversion Rate \\n')\n",
        "      plt.ylabel('Conversion Rate')\n",
        "      plt.xlabel('Date Served')\n",
        "      plt.xticks(rotation=45)\n",
        "      plt.show()"
      ],
      "metadata": {
        "id": "IxCkCxsLpgtw"
      },
      "execution_count": 52,
      "outputs": []
    },
    {
      "cell_type": "markdown",
      "source": [
        "### Campaign results analysis based on ads language\n",
        "\n",
        "to see if ads were sent out in the preferred languages"
      ],
      "metadata": {
        "id": "T2-k3vu8op7b"
      }
    },
    {
      "cell_type": "code",
      "source": [
        "# Plotting the total language matching or not\n",
        "marketing['is_correct_lang'].value_counts().plot(kind='bar')\n",
        "plt.title('Ads sent out in preferred language \\n')\n",
        "plt.xticks(rotation=0)\n",
        "plt.ylabel('Number of ads')\n",
        "plt.show()"
      ],
      "metadata": {
        "colab": {
          "base_uri": "https://localhost:8080/",
          "height": 296
        },
        "id": "xCEutHwVtpDH",
        "outputId": "c2de4697-3131-4e33-81e3-5e513c1025ce"
      },
      "execution_count": 53,
      "outputs": [
        {
          "output_type": "display_data",
          "data": {
            "text/plain": [
              "<Figure size 432x288 with 1 Axes>"
            ],
            "image/png": "[encoded data removed]"
          },
          "metadata": {
            "needs_background": "light"
          }
        }
      ]
    },
    {
      "cell_type": "code",
      "source": [
        "# Plotting conversion rate based on language displayed on ads for each language\n",
        "lang_conv = conversion_rate(marketing, ['date_served','language_displayed'])\n",
        "lang_conv_df = pd.DataFrame(lang_conv.unstack(level=1))\n",
        "plotting(lang_conv_df)"
      ],
      "metadata": {
        "colab": {
          "base_uri": "https://localhost:8080/",
          "height": 1000
        },
        "id": "3uVYQkfpp4LP",
        "outputId": "c8c09d7a-6544-4454-a779-370c2f6693d9"
      },
      "execution_count": 54,
      "outputs": [
        {
          "output_type": "display_data",
          "data": {
            "text/plain": [
              "<Figure size 432x288 with 1 Axes>"
            ],
            "image/png": "[encoded data removed]"
          },
          "metadata": {
            "needs_background": "light"
          }
        },
        {
          "output_type": "display_data",
          "data": {
            "text/plain": [
              "<Figure size 432x288 with 1 Axes>"
            ],
            "image/png": "[encoded data removed]"
          },
          "metadata": {
            "needs_background": "light"
          }
        },
        {
          "output_type": "display_data",
          "data": {
            "text/plain": [
              "<Figure size 432x288 with 1 Axes>"
            ],
            "image/png": "[encoded data removed]"
          },
          "metadata": {
            "needs_background": "light"
          }
        },
        {
          "output_type": "display_data",
          "data": {
            "text/plain": [
              "<Figure size 432x288 with 1 Axes>"
            ],
            "image/png": "[encoded data removed]"
          },
          "metadata": {
            "needs_background": "light"
          }
        }
      ]
    },
    {
      "cell_type": "markdown",
      "source": [
        "Findings:\n",
        "* There are several days where no campaign was sent out in language other than english"
      ],
      "metadata": {
        "id": "fKUeJTRRtfsM"
      }
    },
    {
      "cell_type": "markdown",
      "source": [
        "### Campaign results based on marketing_channel"
      ],
      "metadata": {
        "id": "K_ETD2sRwjP-"
      }
    },
    {
      "cell_type": "code",
      "source": [
        "# Visualizing conversion rate based on marketing channel\n",
        "channel_conv = conversion_rate(marketing, ['date_served','marketing_channel'])\n",
        "channel_conv_df = pd.DataFrame(channel_conv.unstack(level=1))\n",
        "plotting(channel_conv_df)"
      ],
      "metadata": {
        "colab": {
          "base_uri": "https://localhost:8080/",
          "height": 1000
        },
        "id": "Sx-Cfd07wmrS",
        "outputId": "68395c54-181a-47fb-9a0c-72c978a0cdb5"
      },
      "execution_count": 55,
      "outputs": [
        {
          "output_type": "display_data",
          "data": {
            "text/plain": [
              "<Figure size 432x288 with 1 Axes>"
            ],
            "image/png": "[encoded data removed]"
          },
          "metadata": {
            "needs_background": "light"
          }
        },
        {
          "output_type": "display_data",
          "data": {
            "text/plain": [
              "<Figure size 432x288 with 1 Axes>"
            ],
            "image/png": "[encoded data removed]"
          },
          "metadata": {
            "needs_background": "light"
          }
        },
        {
          "output_type": "display_data",
          "data": {
            "text/plain": [
              "<Figure size 432x288 with 1 Axes>"
            ],
            "image/png": "[encoded data removed]"
          },
          "metadata": {
            "needs_background": "light"
          }
        },
        {
          "output_type": "display_data",
          "data": {
            "text/plain": [
              "<Figure size 432x288 with 1 Axes>"
            ],
            "image/png": "[encoded data removed]"
          },
          "metadata": {
            "needs_background": "light"
          }
        },
        {
          "output_type": "display_data",
          "data": {
            "text/plain": [
              "<Figure size 432x288 with 1 Axes>"
            ],
            "image/png": "[encoded data removed]"
          },
          "metadata": {
            "needs_background": "light"
          }
        }
      ]
    },
    {
      "cell_type": "markdown",
      "source": [
        "There was drop in the House Ads channel conversion rate around January 11th:"
      ],
      "metadata": {
        "id": "NfSPU9WBcqM5"
      }
    },
    {
      "cell_type": "code",
      "source": [
        "channel_conv_df.loc['2018-01-09':'2018-01-14','House Ads']"
      ],
      "metadata": {
        "colab": {
          "base_uri": "https://localhost:8080/"
        },
        "id": "99SaJXHYzjGg",
        "outputId": "d93fc675-dff0-4b5c-fa08-fddd1698cfaa"
      },
      "execution_count": 56,
      "outputs": [
        {
          "output_type": "execute_result",
          "data": {
            "text/plain": [
              "date_served\n",
              "2018-01-09    0.127389\n",
              "2018-01-10    0.124260\n",
              "2018-01-11    0.038710\n",
              "2018-01-12    0.027211\n",
              "2018-01-13    0.040541\n",
              "2018-01-14    0.039735\n",
              "Name: House Ads, dtype: float64"
            ]
          },
          "metadata": {},
          "execution_count": 56
        }
      ]
    },
    {
      "cell_type": "markdown",
      "source": [
        "Findings:\n",
        "* peak in conversion rates around Jan 15th, make considering more ads were sent out at that particular date\n",
        "*  email conversion rate showed many peak typically because emails are sent in bulk\n",
        "* house ads conversion rate dropped around Jan 11th"
      ],
      "metadata": {
        "id": "yOIdnwm-yL3y"
      }
    },
    {
      "cell_type": "markdown",
      "source": [
        "## Analyzing House Ads Conversion Rate"
      ],
      "metadata": {
        "id": "0dCJ1tKLdK_Q"
      }
    },
    {
      "cell_type": "code",
      "source": [
        "# Isolate the rows where marketing channel is House Ads\n",
        "house_ads = marketing[marketing['marketing_channel']=='House Ads']\n",
        "\n",
        "# Calculate conversion rate of house ads by date served and language displayed\n",
        "house_ads_conv_lang = conversion_rate(house_ads,['date_served','language_displayed'])\n",
        "\n",
        "# Unstack conv_lang_channel\n",
        "house_ads_conv_lang_df = pd.DataFrame(house_ads_conv_lang.unstack(level=1))\n",
        "\n",
        "# Use your plotting function to display results\n",
        "plotting(house_ads_conv_lang_df)"
      ],
      "metadata": {
        "colab": {
          "base_uri": "https://localhost:8080/",
          "height": 1000
        },
        "id": "6JFThQfpGVjT",
        "outputId": "624e6d56-d739-4151-9302-aa8a6573356a"
      },
      "execution_count": 57,
      "outputs": [
        {
          "output_type": "display_data",
          "data": {
            "text/plain": [
              "<Figure size 432x288 with 1 Axes>"
            ],
            "image/png": "[encoded data removed]"
          },
          "metadata": {
            "needs_background": "light"
          }
        },
        {
          "output_type": "display_data",
          "data": {
            "text/plain": [
              "<Figure size 432x288 with 1 Axes>"
            ],
            "image/png": "[encoded data removed]"
          },
          "metadata": {
            "needs_background": "light"
          }
        },
        {
          "output_type": "display_data",
          "data": {
            "text/plain": [
              "<Figure size 432x288 with 1 Axes>"
            ],
            "image/png": "[encoded data removed]"
          },
          "metadata": {
            "needs_background": "light"
          }
        },
        {
          "output_type": "display_data",
          "data": {
            "text/plain": [
              "<Figure size 432x288 with 1 Axes>"
            ],
            "image/png": "[encoded data removed]"
          },
          "metadata": {
            "needs_background": "light"
          }
        }
      ]
    },
    {
      "cell_type": "markdown",
      "source": [
        "Findings:\n",
        "* In languages other than english there were many days where no campaign was sent out particularly after January 11th\n",
        "\n",
        "Further investigate:\n",
        "* Correct language on house ads"
      ],
      "metadata": {
        "id": "tnSiC11yG7do"
      }
    },
    {
      "cell_type": "code",
      "source": [
        "# Plotting percentage of campaign ads with correct language per day\n",
        "\n",
        "# Groupby date_served and correct_language\n",
        "language_check = house_ads.groupby(['date_served','is_correct_lang'])['is_correct_lang'].count()\n",
        "\n",
        "# Unstack language_check and fill missing values with 0's\n",
        "language_check_df = pd.DataFrame(language_check.unstack(level=1)).fillna(0)\n",
        "\n",
        "# Divide the count where language is correct by the row sum\n",
        "language_check_df['pct'] = language_check_df['Yes']/language_check_df.sum(axis=1)\n",
        "\n",
        "# Plot results\n",
        "plt.plot(language_check_df.index.values, language_check_df['pct'])\n",
        "plt.title('Percent ads sent in correct language by day \\n')\n",
        "plt.xlabel('Date served')\n",
        "plt.ylabel('Pct of correct language')\n",
        "plt.xticks(rotation=45)\n",
        "plt.show()"
      ],
      "metadata": {
        "colab": {
          "base_uri": "https://localhost:8080/",
          "height": 348
        },
        "id": "1iCCpAtuHes1",
        "outputId": "a64a4763-3faa-443f-96a9-f5fc465486cf"
      },
      "execution_count": 58,
      "outputs": [
        {
          "output_type": "display_data",
          "data": {
            "text/plain": [
              "<Figure size 432x288 with 1 Axes>"
            ],
            "image/png": "[encoded data removed]"
          },
          "metadata": {
            "needs_background": "light"
          }
        }
      ]
    },
    {
      "cell_type": "markdown",
      "source": [
        "Findings:\n",
        "* Number of House Ads sent out with correct language dropped since Jan 11th, likely the cause for dropping conversion rate"
      ],
      "metadata": {
        "id": "WBHS7XIPH_dr"
      }
    },
    {
      "cell_type": "markdown",
      "source": [
        "### Assessing impact due to campaign error"
      ],
      "metadata": {
        "id": "GDRK4JTRIUQn"
      }
    },
    {
      "cell_type": "code",
      "source": [
        "# Calculate conversion rate before language bug happened\n",
        "house_ads_bug = house_ads[house_ads['date_served'] < '2018-01-11']\n",
        "lang_conv = conversion_rate(house_ads_bug,['language_displayed'])\n",
        "\n",
        "print(lang_conv,'\\n')\n",
        "\n",
        "# Index other languages conversion rate to English\n",
        "spanish_index = lang_conv['Spanish']/lang_conv['English']\n",
        "arabic_index = lang_conv['Arabic']/lang_conv['English']\n",
        "german_index = lang_conv['German']/lang_conv['English']\n",
        "\n",
        "print(\"Index conversion Spanish terhadap English:\", spanish_index)\n",
        "print(\"Index conversion Arabic terhadap English:\", arabic_index)\n",
        "print(\"Index conversion German terhadap English:\", german_index)"
      ],
      "metadata": {
        "colab": {
          "base_uri": "https://localhost:8080/"
        },
        "id": "ts4GFhj6IZzl",
        "outputId": "4dde65bc-2865-4fbd-917c-4e0c9dcb1d3d"
      },
      "execution_count": 59,
      "outputs": [
        {
          "output_type": "stream",
          "name": "stdout",
          "text": [
            "language_displayed\n",
            "Arabic     0.500000\n",
            "English    0.099093\n",
            "German     0.444444\n",
            "Spanish    0.166667\n",
            "Name: user_id, dtype: float64 \n",
            "\n",
            "Index conversion Spanish terhadap English: 1.681924882629108\n",
            "Index conversion Arabic terhadap English: 5.045774647887324\n",
            "Index conversion German terhadap English: 4.485133020344287\n"
          ]
        }
      ]
    },
    {
      "cell_type": "markdown",
      "source": [
        "Read:\n",
        "for every 1 conversion from House Ads in English, occur:\n",
        "- 1.7 conversion from house ads in Spanish\n",
        "- 5 conversion from house ads in Arabic\n",
        "- 4.5 conversion from house ads in German\n"
      ],
      "metadata": {
        "id": "lzcBs7_sJsg9"
      }
    },
    {
      "cell_type": "code",
      "source": [
        "# Create table of daily total reaches and converted from house ads, based on language preferred\n",
        "converted = house_ads.groupby(['date_served','language_preferred'])\\\n",
        "                        .agg({'user_id':'nunique',\n",
        "                              'converted':'sum'}) \n",
        "\n",
        "# Unstack converted\n",
        "converted_df = pd.DataFrame(converted.unstack(level=1))\n",
        "\n",
        "converted_df.head()"
      ],
      "metadata": {
        "colab": {
          "base_uri": "https://localhost:8080/",
          "height": 269
        },
        "id": "LRLgtJupKYi4",
        "outputId": "28efb16b-f699-47d2-ba49-f11a34960711"
      },
      "execution_count": 60,
      "outputs": [
        {
          "output_type": "execute_result",
          "data": {
            "text/plain": [
              "                   user_id                        converted                 \\\n",
              "language_preferred  Arabic English German Spanish    Arabic English German   \n",
              "date_served                                                                  \n",
              "2018-01-01             2.0   171.0    5.0    11.0         2      13      1   \n",
              "2018-01-02             3.0   200.0    5.0    10.0         0      14      3   \n",
              "2018-01-03             2.0   179.0    3.0     8.0         0      15      1   \n",
              "2018-01-04             2.0   149.0    2.0    14.0         0      12      0   \n",
              "2018-01-05             NaN   143.0    1.0    14.0       NaN      17  False   \n",
              "\n",
              "                            \n",
              "language_preferred Spanish  \n",
              "date_served                 \n",
              "2018-01-01               0  \n",
              "2018-01-02               0  \n",
              "2018-01-03               1  \n",
              "2018-01-04               3  \n",
              "2018-01-05               3  "
            ],
            "text/html": [
              "\n",
              "  <div id=\"df-62c21f4c-9c5b-4c03-a0ca-d14e79512b8a\">\n",
              "    <div class=\"colab-df-container\">\n",
              "      <div>\n",
              "<style scoped>\n",
              "    .dataframe tbody tr th:only-of-type {\n",
              "        vertical-align: middle;\n",
              "    }\n",
              "\n",
              "    .dataframe tbody tr th {\n",
              "        vertical-align: top;\n",
              "    }\n",
              "\n",
              "    .dataframe thead tr th {\n",
              "        text-align: left;\n",
              "    }\n",
              "\n",
              "    .dataframe thead tr:last-of-type th {\n",
              "        text-align: right;\n",
              "    }\n",
              "</style>\n",
              "<table border=\"1\" class=\"dataframe\">\n",
              "  <thead>\n",
              "    <tr>\n",
              "      <th></th>\n",
              "      <th colspan=\"4\" halign=\"left\">user_id</th>\n",
              "      <th colspan=\"4\" halign=\"left\">converted</th>\n",
              "    </tr>\n",
              "    <tr>\n",
              "      <th>language_preferred</th>\n",
              "      <th>Arabic</th>\n",
              "      <th>English</th>\n",
              "      <th>German</th>\n",
              "      <th>Spanish</th>\n",
              "      <th>Arabic</th>\n",
              "      <th>English</th>\n",
              "      <th>German</th>\n",
              "      <th>Spanish</th>\n",
              "    </tr>\n",
              "    <tr>\n",
              "      <th>date_served</th>\n",
              "      <th></th>\n",
              "      <th></th>\n",
              "      <th></th>\n",
              "      <th></th>\n",
              "      <th></th>\n",
              "      <th></th>\n",
              "      <th></th>\n",
              "      <th></th>\n",
              "    </tr>\n",
              "  </thead>\n",
              "  <tbody>\n",
              "    <tr>\n",
              "      <th>2018-01-01</th>\n",
              "      <td>2.0</td>\n",
              "      <td>171.0</td>\n",
              "      <td>5.0</td>\n",
              "      <td>11.0</td>\n",
              "      <td>2</td>\n",
              "      <td>13</td>\n",
              "      <td>1</td>\n",
              "      <td>0</td>\n",
              "    </tr>\n",
              "    <tr>\n",
              "      <th>2018-01-02</th>\n",
              "      <td>3.0</td>\n",
              "      <td>200.0</td>\n",
              "      <td>5.0</td>\n",
              "      <td>10.0</td>\n",
              "      <td>0</td>\n",
              "      <td>14</td>\n",
              "      <td>3</td>\n",
              "      <td>0</td>\n",
              "    </tr>\n",
              "    <tr>\n",
              "      <th>2018-01-03</th>\n",
              "      <td>2.0</td>\n",
              "      <td>179.0</td>\n",
              "      <td>3.0</td>\n",
              "      <td>8.0</td>\n",
              "      <td>0</td>\n",
              "      <td>15</td>\n",
              "      <td>1</td>\n",
              "      <td>1</td>\n",
              "    </tr>\n",
              "    <tr>\n",
              "      <th>2018-01-04</th>\n",
              "      <td>2.0</td>\n",
              "      <td>149.0</td>\n",
              "      <td>2.0</td>\n",
              "      <td>14.0</td>\n",
              "      <td>0</td>\n",
              "      <td>12</td>\n",
              "      <td>0</td>\n",
              "      <td>3</td>\n",
              "    </tr>\n",
              "    <tr>\n",
              "      <th>2018-01-05</th>\n",
              "      <td>NaN</td>\n",
              "      <td>143.0</td>\n",
              "      <td>1.0</td>\n",
              "      <td>14.0</td>\n",
              "      <td>NaN</td>\n",
              "      <td>17</td>\n",
              "      <td>False</td>\n",
              "      <td>3</td>\n",
              "    </tr>\n",
              "  </tbody>\n",
              "</table>\n",
              "</div>\n",
              "      <button class=\"colab-df-convert\" onclick=\"convertToInteractive('df-62c21f4c-9c5b-4c03-a0ca-d14e79512b8a')\"\n",
              "              title=\"Convert this dataframe to an interactive table.\"\n",
              "              style=\"display:none;\">\n",
              "        \n",
              "  <svg xmlns=\"http://www.w3.org/2000/svg\" height=\"24px\"viewBox=\"0 0 24 24\"\n",
              "       width=\"24px\">\n",
              "    <path d=\"M0 0h24v24H0V0z\" fill=\"none\"/>\n",
              "    <path d=\"M18.56 5.44l.94 2.06.94-2.06 2.06-.94-2.06-.94-.94-2.06-.94 2.06-2.06.94zm-11 1L8.5 8.5l.94-2.06 2.06-.94-2.06-.94L8.5 2.5l-.94 2.06-2.06.94zm10 10l.94 2.06.94-2.06 2.06-.94-2.06-.94-.94-2.06-.94 2.06-2.06.94z\"/><path d=\"M17.41 7.96l-1.37-1.37c-.4-.4-.92-.59-1.43-.59-.52 0-1.04.2-1.43.59L10.3 9.45l-7.72 7.72c-.78.78-.78 2.05 0 2.83L4 21.41c.39.39.9.59 1.41.59.51 0 1.02-.2 1.41-.59l7.78-7.78 2.81-2.81c.8-.78.8-2.07 0-2.86zM5.41 20L4 18.59l7.72-7.72 1.47 1.35L5.41 20z\"/>\n",
              "  </svg>\n",
              "      </button>\n",
              "      \n",
              "  <style>\n",
              "    .colab-df-container {\n",
              "      display:flex;\n",
              "      flex-wrap:wrap;\n",
              "      gap: 12px;\n",
              "    }\n",
              "\n",
              "    .colab-df-convert {\n",
              "      background-color: #E8F0FE;\n",
              "      border: none;\n",
              "      border-radius: 50%;\n",
              "      cursor: pointer;\n",
              "      display: none;\n",
              "      fill: #1967D2;\n",
              "      height: 32px;\n",
              "      padding: 0 0 0 0;\n",
              "      width: 32px;\n",
              "    }\n",
              "\n",
              "    .colab-df-convert:hover {\n",
              "      background-color: #E2EBFA;\n",
              "      box-shadow: 0px 1px 2px rgba(60, 64, 67, 0.3), 0px 1px 3px 1px rgba(60, 64, 67, 0.15);\n",
              "      fill: #174EA6;\n",
              "    }\n",
              "\n",
              "    [theme=dark] .colab-df-convert {\n",
              "      background-color: #3B4455;\n",
              "      fill: #D2E3FC;\n",
              "    }\n",
              "\n",
              "    [theme=dark] .colab-df-convert:hover {\n",
              "      background-color: #434B5C;\n",
              "      box-shadow: 0px 1px 3px 1px rgba(0, 0, 0, 0.15);\n",
              "      filter: drop-shadow(0px 1px 2px rgba(0, 0, 0, 0.3));\n",
              "      fill: #FFFFFF;\n",
              "    }\n",
              "  </style>\n",
              "\n",
              "      <script>\n",
              "        const buttonEl =\n",
              "          document.querySelector('#df-62c21f4c-9c5b-4c03-a0ca-d14e79512b8a button.colab-df-convert');\n",
              "        buttonEl.style.display =\n",
              "          google.colab.kernel.accessAllowed ? 'block' : 'none';\n",
              "\n",
              "        async function convertToInteractive(key) {\n",
              "          const element = document.querySelector('#df-62c21f4c-9c5b-4c03-a0ca-d14e79512b8a');\n",
              "          const dataTable =\n",
              "            await google.colab.kernel.invokeFunction('convertToInteractive',\n",
              "                                                     [key], {});\n",
              "          if (!dataTable) return;\n",
              "\n",
              "          const docLinkHtml = 'Like what you see? Visit the ' +\n",
              "            '<a target=\"_blank\" href=https://colab.research.google.com/notebooks/data_table.ipynb>data table notebook</a>'\n",
              "            + ' to learn more about interactive tables.';\n",
              "          element.innerHTML = '';\n",
              "          dataTable['output_type'] = 'display_data';\n",
              "          await google.colab.output.renderOutput(dataTable, element);\n",
              "          const docLink = document.createElement('div');\n",
              "          docLink.innerHTML = docLinkHtml;\n",
              "          element.appendChild(docLink);\n",
              "        }\n",
              "      </script>\n",
              "    </div>\n",
              "  </div>\n",
              "  "
            ]
          },
          "metadata": {},
          "execution_count": 60
        }
      ]
    },
    {
      "cell_type": "code",
      "source": [
        "# Create new column of English conversion rate after bug\n",
        "converted_df['english_conv_rate'] = converted_df.loc['2018-01-11':'2018-01-31'][('converted','English')]\n",
        "\n",
        "# Calculate expected conversion rates for language other than English\n",
        "converted_df['expected_spanish_rate'] = spanish_index*converted_df['english_conv_rate']\n",
        "converted_df['expected_arabic_rate'] = arabic_index*converted_df['english_conv_rate']\n",
        "converted_df['expected_german_rate'] = german_index*converted_df['english_conv_rate']\n",
        "\n",
        "# Calculate expected number of conversion for language other than English\n",
        "converted_df['expected_spanish_conv'] = converted_df['expected_spanish_rate']*converted_df[('user_id','Spanish')]/100\n",
        "converted_df['expected_arabic_conv'] = converted_df['expected_arabic_rate']*converted_df[('user_id','Arabic')]/100\n",
        "converted_df['expected_german_conv'] = converted_df['expected_german_rate']*converted_df[('user_id','German')]/100\n",
        "\n",
        "# Check the newly engineered dataframe\n",
        "converted_df.loc['2018-01-10':'2018-01-20']"
      ],
      "metadata": {
        "id": "NELPpRAQLKR2",
        "colab": {
          "base_uri": "https://localhost:8080/",
          "height": 521
        },
        "outputId": "3b71894c-5838-44d8-8353-9772f8af6ef3"
      },
      "execution_count": 61,
      "outputs": [
        {
          "output_type": "execute_result",
          "data": {
            "text/plain": [
              "                   user_id                        converted                 \\\n",
              "language_preferred  Arabic English German Spanish    Arabic English German   \n",
              "date_served                                                                  \n",
              "2018-01-10             NaN   147.0    4.0    18.0       NaN      15      2   \n",
              "2018-01-11             7.0   133.0    2.0    13.0         0       6      0   \n",
              "2018-01-12             3.0   129.0    4.0    11.0         0       3      0   \n",
              "2018-01-13             6.0   121.0    5.0    16.0         0       5      1   \n",
              "2018-01-14             5.0   131.0    3.0    12.0         0       6      0   \n",
              "2018-01-15             2.0   189.0    4.0    10.0         0       6      0   \n",
              "2018-01-16             7.0   127.0    4.0    17.0         0       6      0   \n",
              "2018-01-17             2.0   126.0    3.0    16.0         0       2      0   \n",
              "2018-01-18             7.0   121.0    6.0    18.0         0       5      1   \n",
              "2018-01-19             5.0   126.0    5.0    12.0         1       4      0   \n",
              "2018-01-20             6.0   124.0    6.0    14.0         1       4      1   \n",
              "\n",
              "                           english_conv_rate expected_spanish_rate  \\\n",
              "language_preferred Spanish                                           \n",
              "date_served                                                          \n",
              "2018-01-10               4               NaN                   NaN   \n",
              "2018-01-11               0                 6             10.091549   \n",
              "2018-01-12               1                 3              5.045775   \n",
              "2018-01-13               0                 5              8.409624   \n",
              "2018-01-14               0                 6             10.091549   \n",
              "2018-01-15               0                 6             10.091549   \n",
              "2018-01-16               0                 6             10.091549   \n",
              "2018-01-17               4                 2               3.36385   \n",
              "2018-01-18               0                 5              8.409624   \n",
              "2018-01-19               0                 4                6.7277   \n",
              "2018-01-20               0                 4                6.7277   \n",
              "\n",
              "                   expected_arabic_rate expected_german_rate  \\\n",
              "language_preferred                                             \n",
              "date_served                                                    \n",
              "2018-01-10                          NaN                  NaN   \n",
              "2018-01-11                    30.274648            26.910798   \n",
              "2018-01-12                    15.137324            13.455399   \n",
              "2018-01-13                    25.228873            22.425665   \n",
              "2018-01-14                    30.274648            26.910798   \n",
              "2018-01-15                    30.274648            26.910798   \n",
              "2018-01-16                    30.274648            26.910798   \n",
              "2018-01-17                    10.091549             8.970266   \n",
              "2018-01-18                    25.228873            22.425665   \n",
              "2018-01-19                    20.183099            17.940532   \n",
              "2018-01-20                    20.183099            17.940532   \n",
              "\n",
              "                   expected_spanish_conv expected_arabic_conv  \\\n",
              "language_preferred                                              \n",
              "date_served                                                     \n",
              "2018-01-10                           NaN                  NaN   \n",
              "2018-01-11                      1.311901             2.119225   \n",
              "2018-01-12                      0.555035              0.45412   \n",
              "2018-01-13                       1.34554             1.513732   \n",
              "2018-01-14                      1.210986             1.513732   \n",
              "2018-01-15                      1.009155             0.605493   \n",
              "2018-01-16                      1.715563             2.119225   \n",
              "2018-01-17                      0.538216             0.201831   \n",
              "2018-01-18                      1.513732             1.766021   \n",
              "2018-01-19                      0.807324             1.009155   \n",
              "2018-01-20                      0.941878             1.210986   \n",
              "\n",
              "                   expected_german_conv  \n",
              "language_preferred                       \n",
              "date_served                              \n",
              "2018-01-10                          NaN  \n",
              "2018-01-11                     0.538216  \n",
              "2018-01-12                     0.538216  \n",
              "2018-01-13                     1.121283  \n",
              "2018-01-14                     0.807324  \n",
              "2018-01-15                     1.076432  \n",
              "2018-01-16                     1.076432  \n",
              "2018-01-17                     0.269108  \n",
              "2018-01-18                      1.34554  \n",
              "2018-01-19                     0.897027  \n",
              "2018-01-20                     1.076432  "
            ],
            "text/html": [
              "\n",
              "  <div id=\"df-fc2987c9-8743-4342-bef6-615316076c42\">\n",
              "    <div class=\"colab-df-container\">\n",
              "      <div>\n",
              "<style scoped>\n",
              "    .dataframe tbody tr th:only-of-type {\n",
              "        vertical-align: middle;\n",
              "    }\n",
              "\n",
              "    .dataframe tbody tr th {\n",
              "        vertical-align: top;\n",
              "    }\n",
              "\n",
              "    .dataframe thead tr th {\n",
              "        text-align: left;\n",
              "    }\n",
              "\n",
              "    .dataframe thead tr:last-of-type th {\n",
              "        text-align: right;\n",
              "    }\n",
              "</style>\n",
              "<table border=\"1\" class=\"dataframe\">\n",
              "  <thead>\n",
              "    <tr>\n",
              "      <th></th>\n",
              "      <th colspan=\"4\" halign=\"left\">user_id</th>\n",
              "      <th colspan=\"4\" halign=\"left\">converted</th>\n",
              "      <th>english_conv_rate</th>\n",
              "      <th>expected_spanish_rate</th>\n",
              "      <th>expected_arabic_rate</th>\n",
              "      <th>expected_german_rate</th>\n",
              "      <th>expected_spanish_conv</th>\n",
              "      <th>expected_arabic_conv</th>\n",
              "      <th>expected_german_conv</th>\n",
              "    </tr>\n",
              "    <tr>\n",
              "      <th>language_preferred</th>\n",
              "      <th>Arabic</th>\n",
              "      <th>English</th>\n",
              "      <th>German</th>\n",
              "      <th>Spanish</th>\n",
              "      <th>Arabic</th>\n",
              "      <th>English</th>\n",
              "      <th>German</th>\n",
              "      <th>Spanish</th>\n",
              "      <th></th>\n",
              "      <th></th>\n",
              "      <th></th>\n",
              "      <th></th>\n",
              "      <th></th>\n",
              "      <th></th>\n",
              "      <th></th>\n",
              "    </tr>\n",
              "    <tr>\n",
              "      <th>date_served</th>\n",
              "      <th></th>\n",
              "      <th></th>\n",
              "      <th></th>\n",
              "      <th></th>\n",
              "      <th></th>\n",
              "      <th></th>\n",
              "      <th></th>\n",
              "      <th></th>\n",
              "      <th></th>\n",
              "      <th></th>\n",
              "      <th></th>\n",
              "      <th></th>\n",
              "      <th></th>\n",
              "      <th></th>\n",
              "      <th></th>\n",
              "    </tr>\n",
              "  </thead>\n",
              "  <tbody>\n",
              "    <tr>\n",
              "      <th>2018-01-10</th>\n",
              "      <td>NaN</td>\n",
              "      <td>147.0</td>\n",
              "      <td>4.0</td>\n",
              "      <td>18.0</td>\n",
              "      <td>NaN</td>\n",
              "      <td>15</td>\n",
              "      <td>2</td>\n",
              "      <td>4</td>\n",
              "      <td>NaN</td>\n",
              "      <td>NaN</td>\n",
              "      <td>NaN</td>\n",
              "      <td>NaN</td>\n",
              "      <td>NaN</td>\n",
              "      <td>NaN</td>\n",
              "      <td>NaN</td>\n",
              "    </tr>\n",
              "    <tr>\n",
              "      <th>2018-01-11</th>\n",
              "      <td>7.0</td>\n",
              "      <td>133.0</td>\n",
              "      <td>2.0</td>\n",
              "      <td>13.0</td>\n",
              "      <td>0</td>\n",
              "      <td>6</td>\n",
              "      <td>0</td>\n",
              "      <td>0</td>\n",
              "      <td>6</td>\n",
              "      <td>10.091549</td>\n",
              "      <td>30.274648</td>\n",
              "      <td>26.910798</td>\n",
              "      <td>1.311901</td>\n",
              "      <td>2.119225</td>\n",
              "      <td>0.538216</td>\n",
              "    </tr>\n",
              "    <tr>\n",
              "      <th>2018-01-12</th>\n",
              "      <td>3.0</td>\n",
              "      <td>129.0</td>\n",
              "      <td>4.0</td>\n",
              "      <td>11.0</td>\n",
              "      <td>0</td>\n",
              "      <td>3</td>\n",
              "      <td>0</td>\n",
              "      <td>1</td>\n",
              "      <td>3</td>\n",
              "      <td>5.045775</td>\n",
              "      <td>15.137324</td>\n",
              "      <td>13.455399</td>\n",
              "      <td>0.555035</td>\n",
              "      <td>0.45412</td>\n",
              "      <td>0.538216</td>\n",
              "    </tr>\n",
              "    <tr>\n",
              "      <th>2018-01-13</th>\n",
              "      <td>6.0</td>\n",
              "      <td>121.0</td>\n",
              "      <td>5.0</td>\n",
              "      <td>16.0</td>\n",
              "      <td>0</td>\n",
              "      <td>5</td>\n",
              "      <td>1</td>\n",
              "      <td>0</td>\n",
              "      <td>5</td>\n",
              "      <td>8.409624</td>\n",
              "      <td>25.228873</td>\n",
              "      <td>22.425665</td>\n",
              "      <td>1.34554</td>\n",
              "      <td>1.513732</td>\n",
              "      <td>1.121283</td>\n",
              "    </tr>\n",
              "    <tr>\n",
              "      <th>2018-01-14</th>\n",
              "      <td>5.0</td>\n",
              "      <td>131.0</td>\n",
              "      <td>3.0</td>\n",
              "      <td>12.0</td>\n",
              "      <td>0</td>\n",
              "      <td>6</td>\n",
              "      <td>0</td>\n",
              "      <td>0</td>\n",
              "      <td>6</td>\n",
              "      <td>10.091549</td>\n",
              "      <td>30.274648</td>\n",
              "      <td>26.910798</td>\n",
              "      <td>1.210986</td>\n",
              "      <td>1.513732</td>\n",
              "      <td>0.807324</td>\n",
              "    </tr>\n",
              "    <tr>\n",
              "      <th>2018-01-15</th>\n",
              "      <td>2.0</td>\n",
              "      <td>189.0</td>\n",
              "      <td>4.0</td>\n",
              "      <td>10.0</td>\n",
              "      <td>0</td>\n",
              "      <td>6</td>\n",
              "      <td>0</td>\n",
              "      <td>0</td>\n",
              "      <td>6</td>\n",
              "      <td>10.091549</td>\n",
              "      <td>30.274648</td>\n",
              "      <td>26.910798</td>\n",
              "      <td>1.009155</td>\n",
              "      <td>0.605493</td>\n",
              "      <td>1.076432</td>\n",
              "    </tr>\n",
              "    <tr>\n",
              "      <th>2018-01-16</th>\n",
              "      <td>7.0</td>\n",
              "      <td>127.0</td>\n",
              "      <td>4.0</td>\n",
              "      <td>17.0</td>\n",
              "      <td>0</td>\n",
              "      <td>6</td>\n",
              "      <td>0</td>\n",
              "      <td>0</td>\n",
              "      <td>6</td>\n",
              "      <td>10.091549</td>\n",
              "      <td>30.274648</td>\n",
              "      <td>26.910798</td>\n",
              "      <td>1.715563</td>\n",
              "      <td>2.119225</td>\n",
              "      <td>1.076432</td>\n",
              "    </tr>\n",
              "    <tr>\n",
              "      <th>2018-01-17</th>\n",
              "      <td>2.0</td>\n",
              "      <td>126.0</td>\n",
              "      <td>3.0</td>\n",
              "      <td>16.0</td>\n",
              "      <td>0</td>\n",
              "      <td>2</td>\n",
              "      <td>0</td>\n",
              "      <td>4</td>\n",
              "      <td>2</td>\n",
              "      <td>3.36385</td>\n",
              "      <td>10.091549</td>\n",
              "      <td>8.970266</td>\n",
              "      <td>0.538216</td>\n",
              "      <td>0.201831</td>\n",
              "      <td>0.269108</td>\n",
              "    </tr>\n",
              "    <tr>\n",
              "      <th>2018-01-18</th>\n",
              "      <td>7.0</td>\n",
              "      <td>121.0</td>\n",
              "      <td>6.0</td>\n",
              "      <td>18.0</td>\n",
              "      <td>0</td>\n",
              "      <td>5</td>\n",
              "      <td>1</td>\n",
              "      <td>0</td>\n",
              "      <td>5</td>\n",
              "      <td>8.409624</td>\n",
              "      <td>25.228873</td>\n",
              "      <td>22.425665</td>\n",
              "      <td>1.513732</td>\n",
              "      <td>1.766021</td>\n",
              "      <td>1.34554</td>\n",
              "    </tr>\n",
              "    <tr>\n",
              "      <th>2018-01-19</th>\n",
              "      <td>5.0</td>\n",
              "      <td>126.0</td>\n",
              "      <td>5.0</td>\n",
              "      <td>12.0</td>\n",
              "      <td>1</td>\n",
              "      <td>4</td>\n",
              "      <td>0</td>\n",
              "      <td>0</td>\n",
              "      <td>4</td>\n",
              "      <td>6.7277</td>\n",
              "      <td>20.183099</td>\n",
              "      <td>17.940532</td>\n",
              "      <td>0.807324</td>\n",
              "      <td>1.009155</td>\n",
              "      <td>0.897027</td>\n",
              "    </tr>\n",
              "    <tr>\n",
              "      <th>2018-01-20</th>\n",
              "      <td>6.0</td>\n",
              "      <td>124.0</td>\n",
              "      <td>6.0</td>\n",
              "      <td>14.0</td>\n",
              "      <td>1</td>\n",
              "      <td>4</td>\n",
              "      <td>1</td>\n",
              "      <td>0</td>\n",
              "      <td>4</td>\n",
              "      <td>6.7277</td>\n",
              "      <td>20.183099</td>\n",
              "      <td>17.940532</td>\n",
              "      <td>0.941878</td>\n",
              "      <td>1.210986</td>\n",
              "      <td>1.076432</td>\n",
              "    </tr>\n",
              "  </tbody>\n",
              "</table>\n",
              "</div>\n",
              "      <button class=\"colab-df-convert\" onclick=\"convertToInteractive('df-fc2987c9-8743-4342-bef6-615316076c42')\"\n",
              "              title=\"Convert this dataframe to an interactive table.\"\n",
              "              style=\"display:none;\">\n",
              "        \n",
              "  <svg xmlns=\"http://www.w3.org/2000/svg\" height=\"24px\"viewBox=\"0 0 24 24\"\n",
              "       width=\"24px\">\n",
              "    <path d=\"M0 0h24v24H0V0z\" fill=\"none\"/>\n",
              "    <path d=\"M18.56 5.44l.94 2.06.94-2.06 2.06-.94-2.06-.94-.94-2.06-.94 2.06-2.06.94zm-11 1L8.5 8.5l.94-2.06 2.06-.94-2.06-.94L8.5 2.5l-.94 2.06-2.06.94zm10 10l.94 2.06.94-2.06 2.06-.94-2.06-.94-.94-2.06-.94 2.06-2.06.94z\"/><path d=\"M17.41 7.96l-1.37-1.37c-.4-.4-.92-.59-1.43-.59-.52 0-1.04.2-1.43.59L10.3 9.45l-7.72 7.72c-.78.78-.78 2.05 0 2.83L4 21.41c.39.39.9.59 1.41.59.51 0 1.02-.2 1.41-.59l7.78-7.78 2.81-2.81c.8-.78.8-2.07 0-2.86zM5.41 20L4 18.59l7.72-7.72 1.47 1.35L5.41 20z\"/>\n",
              "  </svg>\n",
              "      </button>\n",
              "      \n",
              "  <style>\n",
              "    .colab-df-container {\n",
              "      display:flex;\n",
              "      flex-wrap:wrap;\n",
              "      gap: 12px;\n",
              "    }\n",
              "\n",
              "    .colab-df-convert {\n",
              "      background-color: #E8F0FE;\n",
              "      border: none;\n",
              "      border-radius: 50%;\n",
              "      cursor: pointer;\n",
              "      display: none;\n",
              "      fill: #1967D2;\n",
              "      height: 32px;\n",
              "      padding: 0 0 0 0;\n",
              "      width: 32px;\n",
              "    }\n",
              "\n",
              "    .colab-df-convert:hover {\n",
              "      background-color: #E2EBFA;\n",
              "      box-shadow: 0px 1px 2px rgba(60, 64, 67, 0.3), 0px 1px 3px 1px rgba(60, 64, 67, 0.15);\n",
              "      fill: #174EA6;\n",
              "    }\n",
              "\n",
              "    [theme=dark] .colab-df-convert {\n",
              "      background-color: #3B4455;\n",
              "      fill: #D2E3FC;\n",
              "    }\n",
              "\n",
              "    [theme=dark] .colab-df-convert:hover {\n",
              "      background-color: #434B5C;\n",
              "      box-shadow: 0px 1px 3px 1px rgba(0, 0, 0, 0.15);\n",
              "      filter: drop-shadow(0px 1px 2px rgba(0, 0, 0, 0.3));\n",
              "      fill: #FFFFFF;\n",
              "    }\n",
              "  </style>\n",
              "\n",
              "      <script>\n",
              "        const buttonEl =\n",
              "          document.querySelector('#df-fc2987c9-8743-4342-bef6-615316076c42 button.colab-df-convert');\n",
              "        buttonEl.style.display =\n",
              "          google.colab.kernel.accessAllowed ? 'block' : 'none';\n",
              "\n",
              "        async function convertToInteractive(key) {\n",
              "          const element = document.querySelector('#df-fc2987c9-8743-4342-bef6-615316076c42');\n",
              "          const dataTable =\n",
              "            await google.colab.kernel.invokeFunction('convertToInteractive',\n",
              "                                                     [key], {});\n",
              "          if (!dataTable) return;\n",
              "\n",
              "          const docLinkHtml = 'Like what you see? Visit the ' +\n",
              "            '<a target=\"_blank\" href=https://colab.research.google.com/notebooks/data_table.ipynb>data table notebook</a>'\n",
              "            + ' to learn more about interactive tables.';\n",
              "          element.innerHTML = '';\n",
              "          dataTable['output_type'] = 'display_data';\n",
              "          await google.colab.output.renderOutput(dataTable, element);\n",
              "          const docLink = document.createElement('div');\n",
              "          docLink.innerHTML = docLinkHtml;\n",
              "          element.appendChild(docLink);\n",
              "        }\n",
              "      </script>\n",
              "    </div>\n",
              "  </div>\n",
              "  "
            ]
          },
          "metadata": {},
          "execution_count": 61
        }
      ]
    },
    {
      "cell_type": "code",
      "source": [
        "# Subset relevant data: after bug\n",
        "converted_impact = converted_df.loc['2018-01-11':'2018-01-31']\n",
        "\n",
        "# Calculate expected subscribers \n",
        "expected_subs = converted_impact['expected_spanish_conv'].sum() + converted_impact['expected_arabic_conv'].sum() + converted_impact['expected_german_conv'].sum()\n",
        "\n",
        "# Calculate actual subscribers\n",
        "actual_subs = converted_impact[('converted','Spanish')].sum() + converted_impact[('converted','Arabic')].sum() + converted_impact[('converted','German')].sum()\n",
        "\n",
        "# Calculate lost subs due to bug\n",
        "lost_subs = expected_subs-actual_subs\n",
        "print('Estimated subscribers lost due to the bug:', round(lost_subs))"
      ],
      "metadata": {
        "id": "vbjSCIlANMfR",
        "colab": {
          "base_uri": "https://localhost:8080/"
        },
        "outputId": "5acbcc07-bd47-491e-cfdf-8dc926fdea62"
      },
      "execution_count": 62,
      "outputs": [
        {
          "output_type": "stream",
          "name": "stdout",
          "text": [
            "Estimated subscribers lost due to the bug: 32\n"
          ]
        }
      ]
    },
    {
      "cell_type": "markdown",
      "source": [
        "Recommendation:\n",
        "1. Company should pay attention to the languages the ads were send in since it is proven to be a factor in the conversion rate."
      ],
      "metadata": {
        "id": "MVVbTPlRzLdl"
      }
    },
    {
      "cell_type": "markdown",
      "source": [
        "## A/B Testing"
      ],
      "metadata": {
        "id": "kkeRv_XUHSL0"
      }
    },
    {
      "cell_type": "code",
      "source": [
        "# Plotting variant by day\n",
        "ab_test = marketing.groupby(['date_served','variant'])['user_id'].nunique()\n",
        "ab_test_df = pd.DataFrame(ab_test.unstack(level=1))\n",
        "\n",
        "plt.plot(ab_test_df.index.values,ab_test_df['control'])\n",
        "plt.plot(ab_test_df.index.values,ab_test_df['personalization'])\n",
        "plt.title('A/B Test Variant by Day \\n')\n",
        "plt.legend(ab_test_df.columns)\n",
        "plt.xticks(rotation=45)\n",
        "plt.ylabel('Number of user recieved the ads')\n",
        "plt.show()"
      ],
      "metadata": {
        "colab": {
          "base_uri": "https://localhost:8080/",
          "height": 334
        },
        "id": "iofRjLnfEU6F",
        "outputId": "18978ca7-3be8-4b09-f7b4-b43ab4577a75"
      },
      "execution_count": 63,
      "outputs": [
        {
          "output_type": "display_data",
          "data": {
            "text/plain": [
              "<Figure size 432x288 with 1 Axes>"
            ],
            "image/png": "[encoded data removed]"
          },
          "metadata": {
            "needs_background": "light"
          }
        }
      ]
    },
    {
      "cell_type": "markdown",
      "source": [
        "Number of personalized ads sent dropped at around 21-26th. If we recall from previous findings, daily reaches drop around January 21th until the 26th. However, the conversion rates are relatively higher at this period.\n"
      ],
      "metadata": {
        "id": "nV6aOlnyY4RW"
      }
    },
    {
      "cell_type": "code",
      "source": [
        "# Check test allocation \n",
        "\n",
        "# Group the email DataFrame by variant \n",
        "alloc = marketing.groupby('variant')['user_id'].nunique()\n",
        "\n",
        "# Plot a bar chart of the test allocation\n",
        "alloc.plot(kind='bar')\n",
        "plt.title('A/B test variant allocation \\n')\n",
        "plt.ylabel('# participants')\n",
        "plt.xticks(rotation=0)\n",
        "plt.show()"
      ],
      "metadata": {
        "colab": {
          "base_uri": "https://localhost:8080/",
          "height": 310
        },
        "id": "_BQJlLmWWMG9",
        "outputId": "6026ce73-9542-4263-c3fd-19af8c1ba0e3"
      },
      "execution_count": 64,
      "outputs": [
        {
          "output_type": "display_data",
          "data": {
            "text/plain": [
              "<Figure size 432x288 with 1 Axes>"
            ],
            "image/png": "[encoded data removed]"
          },
          "metadata": {
            "needs_background": "light"
          }
        }
      ]
    },
    {
      "cell_type": "markdown",
      "source": [
        "### A/B Test Result by Age Group"
      ],
      "metadata": {
        "id": "HgyVYoHCi1vw"
      }
    },
    {
      "cell_type": "code",
      "source": [
        "#Check conversion rate for each allocation in each age group\n",
        "\n",
        "ab_age_conv = conversion_rate(marketing,['age_group','variant'])\n",
        "ab_age_conv_df = pd.DataFrame(ab_age_conv.unstack(level=1))\n",
        "print(ab_age_conv_df, '\\n')\n",
        "\n",
        "ab_age_conv_df.plot(kind='bar')\n",
        "plt.title('A/B Test Conversion Rate by Age Group \\n')\n",
        "plt.ylabel('Conversion Rate')\n",
        "plt.xlabel('Age Group')\n",
        "plt.xticks(rotation=45)\n",
        "plt.show()"
      ],
      "metadata": {
        "colab": {
          "base_uri": "https://localhost:8080/",
          "height": 524
        },
        "id": "P7O976wHWpCf",
        "outputId": "0dfe6eac-7ea5-49d8-e919-6dfdd2e03e2c"
      },
      "execution_count": 65,
      "outputs": [
        {
          "output_type": "stream",
          "name": "stdout",
          "text": [
            "variant       control  personalization\n",
            "age_group                             \n",
            "0-18 years   0.081772         0.230892\n",
            "19-24 years  0.083475         0.341823\n",
            "24-30 years  0.086176         0.269231\n",
            "30-36 years  0.095668         0.049213\n",
            "36-45 years  0.090580         0.049213\n",
            "45-55 years  0.090580         0.051181\n",
            "55+ years    0.102128         0.056311 \n",
            "\n"
          ]
        },
        {
          "output_type": "display_data",
          "data": {
            "text/plain": [
              "<Figure size 432x288 with 1 Axes>"
            ],
            "image/png": "[encoded data removed]"
          },
          "metadata": {
            "needs_background": "light"
          }
        }
      ]
    },
    {
      "cell_type": "markdown",
      "source": [
        "Younger people (up to 30 yrs) convert more from personalized ads."
      ],
      "metadata": {
        "id": "_ZGDyakki64k"
      }
    },
    {
      "cell_type": "code",
      "source": [
        "# Check overall conversion rate from the test (for each allocation)\n",
        "\n",
        "# Group marketing by user_id and variant\n",
        "subscribers = marketing.groupby(['user_id', \n",
        "                             'variant'])['converted'].max()\n",
        "subscribers_df = pd.DataFrame(subscribers.unstack(level=1)) \n",
        "\n",
        "# Drop missing values from the control column\n",
        "control = subscribers_df['control'].dropna()\n",
        "\n",
        "# Drop missing values from the personalization column\n",
        "personalization = subscribers_df['personalization'].dropna()\n",
        "\n",
        "print('Control conversion rate:', control.mean())\n",
        "print('Personalization conversion rate:', personalization.mean())"
      ],
      "metadata": {
        "colab": {
          "base_uri": "https://localhost:8080/"
        },
        "id": "BrJPSr8AbBIl",
        "outputId": "00a87239-aacb-47f1-a2fa-6b8d224dd487"
      },
      "execution_count": 66,
      "outputs": [
        {
          "output_type": "stream",
          "name": "stdout",
          "text": [
            "Control conversion rate: 0.09287257019438445\n",
            "Personalization conversion rate: 0.16801173881144535\n"
          ]
        }
      ]
    },
    {
      "cell_type": "markdown",
      "source": [
        "The number from personalized is visually higher, but higher by how much? We answer this by calculating the 'lift'.\n",
        "\n",
        "lift = ((treatment conv rate) - (control conv rate))/(control conv rate)"
      ],
      "metadata": {
        "id": "u74JD0iTeHVX"
      }
    },
    {
      "cell_type": "code",
      "source": [
        "# Lift\n",
        "def lift(a,b):\n",
        "    # Calcuate the mean of a and b\n",
        "    a_mean = np.mean(a)\n",
        "    b_mean = np.mean(b)\n",
        "    \n",
        "    # Calculate the lift using a_mean and b_mean\n",
        "    lift = (b_mean-a_mean)/a_mean\n",
        "  \n",
        "    return str(round(lift*100, 2)) + '%'\n",
        "  \n",
        "# Print lift() with control and personalization as inputs\n",
        "print('The lift is:', lift(control, personalization))"
      ],
      "metadata": {
        "colab": {
          "base_uri": "https://localhost:8080/"
        },
        "id": "Cg_X4QDHd9kj",
        "outputId": "579613f7-9fa1-4966-a9c3-6932bbd879e8"
      },
      "execution_count": 67,
      "outputs": [
        {
          "output_type": "stream",
          "name": "stdout",
          "text": [
            "The lift is: 80.91%\n"
          ]
        }
      ]
    },
    {
      "cell_type": "markdown",
      "source": [
        "### Statistical significance: t-test \n",
        "\n",
        "T-test is done to understand whether a test showed a positive result by chance or if it is reflective of a true difference between the variants. Is the difference between the control and personalization statistically significant?"
      ],
      "metadata": {
        "id": "pXwfIkqreIgm"
      }
    },
    {
      "cell_type": "code",
      "source": [
        "# Import library\n",
        "from scipy.stats import ttest_ind\n",
        "\n",
        "# Run t-tets\n",
        "t = ttest_ind(control, personalization)\n",
        "\n",
        "print(t)"
      ],
      "metadata": {
        "colab": {
          "base_uri": "https://localhost:8080/"
        },
        "id": "L2iPRrZ6cDKd",
        "outputId": "cbfcefbf-921b-4df8-b26f-568f8bffb4e5"
      },
      "execution_count": 68,
      "outputs": [
        {
          "output_type": "stream",
          "name": "stdout",
          "text": [
            "Ttest_indResult(statistic=-9.836033867623334, pvalue=1.0673641640714418e-22)\n"
          ]
        }
      ]
    },
    {
      "cell_type": "markdown",
      "source": [
        "With p value smaller than 0.05 (5% significance level), the result therefore is statistically significant:\n",
        "\n",
        "Personalized ads in overal give better conversion rate than the control ones."
      ],
      "metadata": {
        "id": "t9gTO4qveMNq"
      }
    },
    {
      "cell_type": "markdown",
      "source": [
        "### A/B testing result for each marketing channel"
      ],
      "metadata": {
        "id": "T-uAbFYghjpM"
      }
    },
    {
      "cell_type": "code",
      "source": [
        "for channel in np.unique(marketing['marketing_channel'].dropna().values):\n",
        "  print(channel)\n",
        "\n",
        "  channel_data = marketing[marketing['marketing_channel'] == channel]\n",
        "\n",
        "  subscribers = channel_data.groupby(['user_id','variant'])['converted'].max()\n",
        "\n",
        "  subscribers = pd.DataFrame(subscribers.unstack(level=1))\n",
        "\n",
        "  control = subscribers['control'].dropna()\n",
        "  personalization = subscribers['personalization'].dropna()\n",
        "\n",
        "  print('lift:', lift(control,personalization)) #lift function shoud be defined prior to this\n",
        "  print('t-statistics:', ttest_ind(control,personalization), '\\n\\n' )"
      ],
      "metadata": {
        "colab": {
          "base_uri": "https://localhost:8080/"
        },
        "id": "S0EAJbzhfECx",
        "outputId": "40585239-42e6-4dc5-8472-f8fcd84843e8"
      },
      "execution_count": 69,
      "outputs": [
        {
          "output_type": "stream",
          "name": "stdout",
          "text": [
            "Email\n",
            "lift: 38.85%\n",
            "t-statistics: Ttest_indResult(statistic=-2.7343299447505074, pvalue=0.006451487844694175) \n",
            "\n",
            "\n",
            "Facebook\n",
            "lift: 249.94%\n",
            "t-statistics: Ttest_indResult(statistic=-8.832725626815982, pvalue=2.3838113167820537e-18) \n",
            "\n",
            "\n",
            "House Ads\n",
            "lift: -21.76%\n",
            "t-statistics: Ttest_indResult(statistic=2.180919186665876, pvalue=0.0292473385789305) \n",
            "\n",
            "\n",
            "Instagram\n",
            "lift: 379.56%\n",
            "t-statistics: Ttest_indResult(statistic=-10.74963558513631, pvalue=3.6595188397707697e-26) \n",
            "\n",
            "\n",
            "Push\n",
            "lift: 351.07%\n",
            "t-statistics: Ttest_indResult(statistic=-5.770631208333074, pvalue=1.0587609049664107e-08) \n",
            "\n",
            "\n"
          ]
        }
      ]
    },
    {
      "cell_type": "markdown",
      "source": [
        "When looking at the A/B result bt marketing channel, we see that: \n",
        "\n",
        "1. Personalized ads give better performance than the control ones in all marketing channel except House Ads. \n",
        "2. Personalized ads give much better results in one channel than the other. Based on the lift, personalized ads give better result when used in  Instagram, then Push, then Facebook, then lastly Email in descending order. \n",
        "\n"
      ],
      "metadata": {
        "id": "ZsEoD4im0EaI"
      }
    },
    {
      "cell_type": "code",
      "source": [
        "# Import seaborn library\n",
        "import seaborn as sns\n",
        "\n",
        "# Visualize marketing channel by age group\n",
        "channel_by_age = marketing.groupby(['marketing_channel','age_group'])['user_id'].nunique()\n",
        "\n",
        "channel_by_age_df = pd.DataFrame(channel_by_age.unstack(level=1))\n",
        "channel_by_age_df.reset_index(inplace=True)\n",
        "channel_by_age_df = channel_by_age_df[['marketing_channel','0-18 years','19-24 years',\n",
        "                                       '24-30 years','30-36 years','36-45 years','45-55 years',\n",
        "                                       '55+ years']].melt('marketing_channel')\n",
        "fig, ax = plt.subplots()\n",
        "sns.barplot(x='marketing_channel', y='value', hue='age_group', data=channel_by_age_df, ax=ax)\n",
        "plt.title('Marketing channel by age group \\n')\n",
        "plt.xlabel('Channel')\n",
        "plt.ylabel('Number of users')\n",
        "plt.show()"
      ],
      "metadata": {
        "colab": {
          "base_uri": "https://localhost:8080/",
          "height": 310
        },
        "id": "P2hJuBqToOS0",
        "outputId": "5c31eab7-502d-4358-b8ac-7e8ff6582675"
      },
      "execution_count": 110,
      "outputs": [
        {
          "output_type": "display_data",
          "data": {
            "text/plain": [
              "<Figure size 432x288 with 1 Axes>"
            ],
            "image/png": "[encoded data removed]"
          },
          "metadata": {
            "needs_background": "light"
          }
        }
      ]
    },
    {
      "cell_type": "markdown",
      "source": [
        "Based on the visualization above, House Ads have more users(viewers) than any other channel for each group. Despite this, house ads still give negative lift for the personalized ads.\n",
        "\n",
        "Recommendation:\n",
        "1. Company doesnt have to invest more to personalize ads on website (house ads) \n",
        "2. Company should continue and improve the personalization of ads in Facebook, Instagram, and Push that is the channels with high lift for the personalized ad."
      ],
      "metadata": {
        "id": "FRanR41_xuOc"
      }
    }
  ]
}